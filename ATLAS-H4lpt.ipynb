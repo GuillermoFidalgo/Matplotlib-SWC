{
 "cells": [
  {
   "cell_type": "markdown",
   "metadata": {
    "colab_type": "text",
    "id": "view-in-github"
   },
   "source": [
    "<a href=\"https://colab.research.google.com/github/GuillermoFidalgo/Matplotlib-SWC/blob/main/ATLAS-H4lpt.ipynb\" target=\"_parent\"><img src=\"https://colab.research.google.com/assets/colab-badge.svg\" alt=\"Open In Colab\"/></a>"
   ]
  },
  {
   "cell_type": "markdown",
   "metadata": {},
   "source": [
    "# **If on Colab**\n",
    "\n",
    "Please click on the bage and then run the code below"
   ]
  },
  {
   "cell_type": "raw",
   "metadata": {},
   "source": [
    "! git clone https://github.com/GuillermoFidalgo/Matplotlib-SWC.git\n",
    "! cd Matplotlib-SWC/; pip install -r requirements.txt ; bash postBuild"
   ]
  },
  {
   "cell_type": "markdown",
   "metadata": {},
   "source": [
    "You might see a warning to Restart the Runtime. This is expected. Just go to the `Kernel`  tab and click on `Restart runtime`.\n",
    "\n",
    "You only have to do this once per notebook on Google Colab."
   ]
  },
  {
   "cell_type": "code",
   "execution_count": null,
   "metadata": {
    "execution": {
     "iopub.execute_input": "2022-01-20T03:17:17.659908Z",
     "iopub.status.busy": "2022-01-20T03:17:17.659214Z",
     "iopub.status.idle": "2022-01-20T03:17:17.752156Z",
     "shell.execute_reply": "2022-01-20T03:17:17.750876Z",
     "shell.execute_reply.started": "2022-01-20T03:17:17.659792Z"
    },
    "id": "FEtTX0fgtYXC"
   },
   "outputs": [],
   "source": [
    "import uproot\n",
    "import pandas as pd\n",
    "import numpy as np"
   ]
  },
  {
   "cell_type": "code",
   "execution_count": null,
   "metadata": {
    "execution": {
     "iopub.execute_input": "2022-01-17T16:54:49.351486Z",
     "iopub.status.busy": "2022-01-17T16:54:49.350994Z",
     "iopub.status.idle": "2022-01-17T16:54:49.356882Z",
     "shell.execute_reply": "2022-01-17T16:54:49.356001Z",
     "shell.execute_reply.started": "2022-01-17T16:54:49.351444Z"
    },
    "id": "h_8IYGzMtYXE"
   },
   "outputs": [],
   "source": [
    "samples_dic= {'data': [['data', 'data_A'], \n",
    "                       ['data', 'data_B'], \n",
    "                       ['data', 'data_C'], \n",
    "                       ['data', 'data_D']],\n",
    "              'higgs': [['mc', 'mc_345060.ggH125_ZZ4lep'], \n",
    "                        ['mc', 'mc_344235.VBFH125_ZZ4lep']], \n",
    "              'zz': [['mc', 'mc_363490.llll']], \n",
    "              'other': [['mc', 'mc_361106.Zee'], \n",
    "                        ['mc', 'mc_361107.Zmumu']]}"
   ]
  },
  {
   "cell_type": "code",
   "execution_count": null,
   "metadata": {
    "execution": {
     "iopub.execute_input": "2022-01-17T16:54:49.774301Z",
     "iopub.status.busy": "2022-01-17T16:54:49.773542Z",
     "iopub.status.idle": "2022-01-17T16:54:50.312064Z",
     "shell.execute_reply": "2022-01-17T16:54:50.311272Z",
     "shell.execute_reply.started": "2022-01-17T16:54:49.774261Z"
    },
    "id": "G6KaiExrtYXJ"
   },
   "outputs": [],
   "source": [
    "processes = samples_dic.keys()\n",
    "Tuples={}\n",
    "samples=[]\n",
    "for p in processes:\n",
    "    for d in samples_dic[p]:\n",
    "        # Load the dataframes\n",
    "        folder = d[0] # Folder name\n",
    "        sample = d[1] # Sample name\n",
    "        samples.append(sample)\n",
    "\n",
    "        DataUproot = uproot.open(f'samples_FilterGem_{sample}.root')\n",
    "        Tuples[sample] = DataUproot['myTree']"
   ]
  },
  {
   "cell_type": "markdown",
   "metadata": {
    "id": "S2QeEBHRtYXL"
   },
   "source": [
    "First we ask them to read the branches that start with `lep`"
   ]
  },
  {
   "cell_type": "code",
   "execution_count": null,
   "metadata": {
    "execution": {
     "iopub.execute_input": "2022-01-17T16:54:50.313965Z",
     "iopub.status.busy": "2022-01-17T16:54:50.313645Z",
     "iopub.status.idle": "2022-01-17T16:54:50.322847Z",
     "shell.execute_reply": "2022-01-17T16:54:50.321915Z",
     "shell.execute_reply.started": "2022-01-17T16:54:50.313907Z"
    },
    "id": "gP7fxy99tYXN"
   },
   "outputs": [],
   "source": [
    "Tuples['data_A']"
   ]
  },
  {
   "cell_type": "code",
   "execution_count": null,
   "metadata": {
    "execution": {
     "iopub.execute_input": "2022-01-17T16:54:50.431236Z",
     "iopub.status.busy": "2022-01-17T16:54:50.430916Z",
     "iopub.status.idle": "2022-01-17T16:54:50.438537Z",
     "shell.execute_reply": "2022-01-17T16:54:50.437634Z",
     "shell.execute_reply.started": "2022-01-17T16:54:50.431202Z"
    },
    "id": "q1tVDkgutYXN"
   },
   "outputs": [],
   "source": [
    "Tuples['data_A'].keys()"
   ]
  },
  {
   "cell_type": "code",
   "execution_count": null,
   "metadata": {
    "execution": {
     "iopub.execute_input": "2022-01-17T16:54:50.786795Z",
     "iopub.status.busy": "2022-01-17T16:54:50.786527Z",
     "iopub.status.idle": "2022-01-17T16:55:01.914005Z",
     "shell.execute_reply": "2022-01-17T16:55:01.913194Z",
     "shell.execute_reply.started": "2022-01-17T16:54:50.786764Z"
    },
    "id": "KU0qIO_itYXN"
   },
   "outputs": [],
   "source": [
    "branches={}\n",
    "for s in samples:\n",
    "    branches[s] = Tuples[s].arrays()"
   ]
  },
  {
   "cell_type": "code",
   "execution_count": null,
   "metadata": {
    "execution": {
     "iopub.execute_input": "2022-01-17T16:55:01.91588Z",
     "iopub.status.busy": "2022-01-17T16:55:01.915506Z",
     "iopub.status.idle": "2022-01-17T16:55:01.919511Z",
     "shell.execute_reply": "2022-01-17T16:55:01.918842Z",
     "shell.execute_reply.started": "2022-01-17T16:55:01.915847Z"
    },
    "id": "ix3VxWfntYXP"
   },
   "outputs": [],
   "source": [
    "import matplotlib.pyplot as plt"
   ]
  },
  {
   "cell_type": "code",
   "execution_count": null,
   "metadata": {
    "execution": {
     "iopub.execute_input": "2022-01-17T16:55:01.921075Z",
     "iopub.status.busy": "2022-01-17T16:55:01.920714Z",
     "iopub.status.idle": "2022-01-17T16:55:02.18336Z",
     "shell.execute_reply": "2022-01-17T16:55:02.18253Z",
     "shell.execute_reply.started": "2022-01-17T16:55:01.921042Z"
    },
    "id": "WLQLDJ6YtYXQ"
   },
   "outputs": [],
   "source": [
    "plt.hist(branches['data_A']['m4l'])"
   ]
  },
  {
   "cell_type": "markdown",
   "metadata": {
    "id": "XK2r7DG8tYXS"
   },
   "source": [
    "# Selection"
   ]
  },
  {
   "cell_type": "markdown",
   "metadata": {
    "id": "z8qzusqwtYXU"
   },
   "source": [
    "- sum good leptons\n",
    "- sum charge\n",
    "- sum types"
   ]
  },
  {
   "cell_type": "markdown",
   "metadata": {
    "id": "LiWb2m3CtYXV"
   },
   "source": [
    "### Example of a simple selection"
   ]
  },
  {
   "cell_type": "code",
   "execution_count": null,
   "metadata": {
    "execution": {
     "iopub.execute_input": "2022-01-17T16:55:02.186583Z",
     "iopub.status.busy": "2022-01-17T16:55:02.18505Z",
     "iopub.status.idle": "2022-01-17T16:55:02.190394Z",
     "shell.execute_reply": "2022-01-17T16:55:02.189483Z",
     "shell.execute_reply.started": "2022-01-17T16:55:02.186546Z"
    },
    "id": "GFML9U0XtYXW",
    "tags": []
   },
   "outputs": [],
   "source": [
    "sum_leptons_test = branches['data_A']['sum_good_lep'] == 4"
   ]
  },
  {
   "cell_type": "code",
   "execution_count": null,
   "metadata": {
    "execution": {
     "iopub.execute_input": "2022-01-17T16:55:02.191758Z",
     "iopub.status.busy": "2022-01-17T16:55:02.191459Z",
     "iopub.status.idle": "2022-01-17T16:55:02.206929Z",
     "shell.execute_reply": "2022-01-17T16:55:02.206097Z",
     "shell.execute_reply.started": "2022-01-17T16:55:02.191728Z"
    },
    "id": "KFqoLPbItYXX"
   },
   "outputs": [],
   "source": [
    " branches['data_A']['good_lep']"
   ]
  },
  {
   "cell_type": "code",
   "execution_count": null,
   "metadata": {
    "execution": {
     "iopub.execute_input": "2022-01-17T16:55:02.208395Z",
     "iopub.status.busy": "2022-01-17T16:55:02.208145Z",
     "iopub.status.idle": "2022-01-17T16:55:02.219142Z",
     "shell.execute_reply": "2022-01-17T16:55:02.218318Z",
     "shell.execute_reply.started": "2022-01-17T16:55:02.208366Z"
    },
    "id": "VZxVlvcFtYXY"
   },
   "outputs": [],
   "source": [
    "sum_leptons_test"
   ]
  },
  {
   "cell_type": "markdown",
   "metadata": {
    "id": "irChmvdptYXY"
   },
   "source": [
    "## All the selection for this analysis"
   ]
  },
  {
   "cell_type": "code",
   "execution_count": null,
   "metadata": {
    "execution": {
     "iopub.execute_input": "2022-01-17T16:55:02.220751Z",
     "iopub.status.busy": "2022-01-17T16:55:02.220487Z",
     "iopub.status.idle": "2022-01-17T16:55:02.317563Z",
     "shell.execute_reply": "2022-01-17T16:55:02.316666Z",
     "shell.execute_reply.started": "2022-01-17T16:55:02.220689Z"
    },
    "id": "4inWCKS4tYXZ"
   },
   "outputs": [],
   "source": [
    "selection_events={}\n",
    "for s in samples:\n",
    "    # trigger\n",
    "    trigger = ((branches[s]['trigM'] == True) | (branches[s]['trigE'] == True))\n",
    "    sum_leptons = branches[s]['sum_good_lep'] == 4\n",
    "    sum_charge = branches[s]['sum_lep_charge'] == 0\n",
    "    sum_types_ee = branches[s]['goodlep_sumtypes'] == 44\n",
    "    sum_types_mm = branches[s]['goodlep_sumtypes'] == 52\n",
    "    sum_types_em = branches[s]['goodlep_sumtypes'] == 48\n",
    "    sum_types_goodlep = (sum_types_ee | sum_types_mm | sum_types_em)\n",
    "    sum_lep_selection = (sum_leptons & sum_charge & sum_types_goodlep)\n",
    "    # Select leptons with high transverse momentum\n",
    "    pt_0_selection = ((branches[s]['lep_pt'][:,0] > 25000) & (branches[s]['good_lep'][:,0] == 1))\n",
    "    pt_1_selection = ((branches[s]['lep_pt'][:,1] > 15000) & (branches[s]['good_lep'][:,1] == 1))\n",
    "    pt_2_selection = ((branches[s]['lep_pt'][:,2] > 10000) & (branches[s]['good_lep'][:,2] == 1))\n",
    "    high_pt_selection = (pt_0_selection & pt_1_selection & pt_2_selection)\n",
    "    final_selection = trigger & sum_types_goodlep & sum_lep_selection & high_pt_selection\n",
    "    selection_events[s] = final_selection"
   ]
  },
  {
   "cell_type": "code",
   "execution_count": null,
   "metadata": {
    "execution": {
     "iopub.execute_input": "2022-01-17T16:55:02.319192Z",
     "iopub.status.busy": "2022-01-17T16:55:02.318919Z",
     "iopub.status.idle": "2022-01-17T16:55:02.326401Z",
     "shell.execute_reply": "2022-01-17T16:55:02.325474Z",
     "shell.execute_reply.started": "2022-01-17T16:55:02.319161Z"
    },
    "id": "00QakEiAtYXa"
   },
   "outputs": [],
   "source": [
    "for s in samples:\n",
    "    print(s,'      Initial events: ', len(branches[s]['m4l']))"
   ]
  },
  {
   "cell_type": "code",
   "execution_count": null,
   "metadata": {
    "execution": {
     "iopub.execute_input": "2022-01-17T16:55:02.32822Z",
     "iopub.status.busy": "2022-01-17T16:55:02.328009Z",
     "iopub.status.idle": "2022-01-17T16:55:02.3463Z",
     "shell.execute_reply": "2022-01-17T16:55:02.345401Z",
     "shell.execute_reply.started": "2022-01-17T16:55:02.328193Z"
    },
    "id": "1CQaYxZstYXb"
   },
   "outputs": [],
   "source": [
    "for s in samples:\n",
    "    print(s,'      After selection: ', len(branches[s]['m4l'][selection_events[s]]))"
   ]
  },
  {
   "cell_type": "code",
   "execution_count": null,
   "metadata": {
    "execution": {
     "iopub.execute_input": "2022-01-17T16:55:02.350122Z",
     "iopub.status.busy": "2022-01-17T16:55:02.349296Z",
     "iopub.status.idle": "2022-01-17T16:55:02.354781Z",
     "shell.execute_reply": "2022-01-17T16:55:02.353815Z",
     "shell.execute_reply.started": "2022-01-17T16:55:02.350072Z"
    },
    "id": "JWzc9eDFtYXb"
   },
   "outputs": [],
   "source": [
    "mc_samples=samples[4:]"
   ]
  },
  {
   "cell_type": "code",
   "execution_count": null,
   "metadata": {
    "execution": {
     "iopub.execute_input": "2022-01-17T16:55:02.35622Z",
     "iopub.status.busy": "2022-01-17T16:55:02.355961Z",
     "iopub.status.idle": "2022-01-17T16:55:02.367899Z",
     "shell.execute_reply": "2022-01-17T16:55:02.367024Z",
     "shell.execute_reply.started": "2022-01-17T16:55:02.356189Z"
    },
    "id": "qiIgBq1ktYXc"
   },
   "outputs": [],
   "source": [
    "data_samples=samples[:4]"
   ]
  },
  {
   "cell_type": "code",
   "execution_count": null,
   "metadata": {
    "execution": {
     "iopub.execute_input": "2022-01-17T16:55:02.369748Z",
     "iopub.status.busy": "2022-01-17T16:55:02.369197Z",
     "iopub.status.idle": "2022-01-17T16:55:02.385817Z",
     "shell.execute_reply": "2022-01-17T16:55:02.384861Z",
     "shell.execute_reply.started": "2022-01-17T16:55:02.36971Z"
    },
    "id": "_qcsJiJHtYXc"
   },
   "outputs": [],
   "source": [
    "stack_mc_list=[]\n",
    "for s in mc_samples:\n",
    "    mc_selection_values=branches[s]['m4l'][selection_events[s]]\n",
    "    stack_mc_list.append(mc_selection_values)\n",
    "    print(len(mc_selection_values))"
   ]
  },
  {
   "cell_type": "code",
   "execution_count": null,
   "metadata": {
    "execution": {
     "iopub.execute_input": "2022-01-17T16:55:02.387327Z",
     "iopub.status.busy": "2022-01-17T16:55:02.387098Z",
     "iopub.status.idle": "2022-01-17T16:55:02.398218Z",
     "shell.execute_reply": "2022-01-17T16:55:02.397304Z",
     "shell.execute_reply.started": "2022-01-17T16:55:02.387298Z"
    },
    "id": "fwvl00ERtYXd"
   },
   "outputs": [],
   "source": [
    "stack_weights_list=[]\n",
    "for s in mc_samples:\n",
    "    mc_selection_weight=branches[s]['weight'][selection_events[s]]\n",
    "    stack_weights_list.append(mc_selection_weight)\n",
    "    print(len(mc_selection_weight))"
   ]
  },
  {
   "cell_type": "code",
   "execution_count": null,
   "metadata": {
    "execution": {
     "iopub.execute_input": "2022-01-17T16:55:02.401119Z",
     "iopub.status.busy": "2022-01-17T16:55:02.399671Z",
     "iopub.status.idle": "2022-01-17T16:55:02.407356Z",
     "shell.execute_reply": "2022-01-17T16:55:02.406711Z",
     "shell.execute_reply.started": "2022-01-17T16:55:02.401071Z"
    },
    "id": "35umwf_UtYXe"
   },
   "outputs": [],
   "source": [
    "stack_data_list=[]\n",
    "for d in data_samples:\n",
    "    data_list=list(branches[d]['m4l'][selection_events[d]])\n",
    "    stack_data_list+=data_list\n",
    "    print(d,len(data_list))"
   ]
  },
  {
   "cell_type": "code",
   "execution_count": null,
   "metadata": {
    "execution": {
     "iopub.execute_input": "2022-01-17T16:55:02.409101Z",
     "iopub.status.busy": "2022-01-17T16:55:02.408619Z",
     "iopub.status.idle": "2022-01-17T16:55:02.418534Z",
     "shell.execute_reply": "2022-01-17T16:55:02.417742Z",
     "shell.execute_reply.started": "2022-01-17T16:55:02.409058Z"
    },
    "id": "eDYv8MJYtYXe"
   },
   "outputs": [],
   "source": [
    "def plotData(data_var, range_ab, bins_samples):\n",
    "    data_hist,bins = np.histogram(data_var, range=range_ab, bins=bins_samples) \n",
    "    #data_hist, bins = plt.hist(data_var, range=range_ab, stacked=True, bins=bins_samples)\n",
    "    print(data_hist, bins)\n",
    "    data_hist_errors = np.sqrt( data_hist )\n",
    "    bin_center=(bins[1:]+bins[:-1])/2\n",
    "    h0=plt.errorbar(x=bin_center, y=data_hist, yerr=data_hist_errors,fmt='ko', label='Data')"
   ]
  },
  {
   "cell_type": "code",
   "execution_count": null,
   "metadata": {
    "execution": {
     "iopub.execute_input": "2022-01-17T16:55:02.4201Z",
     "iopub.status.busy": "2022-01-17T16:55:02.419457Z",
     "iopub.status.idle": "2022-01-17T16:55:02.43328Z",
     "shell.execute_reply": "2022-01-17T16:55:02.432264Z",
     "shell.execute_reply.started": "2022-01-17T16:55:02.420062Z"
    },
    "id": "qdtI0S-ttYXe"
   },
   "outputs": [],
   "source": [
    "var_name = 'm4l'\n",
    "units = ' [GeV]'\n",
    "rangos = [[80,170]]\n",
    "bines = 24 #int((rangos[0][-1]-rangos[0][0])/5)"
   ]
  },
  {
   "cell_type": "code",
   "execution_count": null,
   "metadata": {
    "execution": {
     "iopub.execute_input": "2022-01-17T16:55:02.434865Z",
     "iopub.status.busy": "2022-01-17T16:55:02.434325Z",
     "iopub.status.idle": "2022-01-17T16:55:03.016686Z",
     "shell.execute_reply": "2022-01-17T16:55:03.016024Z",
     "shell.execute_reply.started": "2022-01-17T16:55:02.434828Z"
    },
    "id": "Y3UrHakMtYXg"
   },
   "outputs": [],
   "source": [
    "plt.figure(figsize=(10,8))\n",
    "plt.title(var_name)\n",
    "plotData(stack_data_list, rangos[0], bines)\n",
    "h1=plt.hist(stack_mc_list, range=rangos[0], label=mc_samples, stacked=True, weights=stack_weights_list, bins=bines)\n",
    "plt.ylabel('Events', fontsize=18)\n",
    "plt.xlabel(var_name+units, fontsize=18)\n",
    "#plt.yscale('log')\n",
    "plt.tick_params(which='both', # ticks on both x and y axes\n",
    "                direction='in', # Put ticks inside and outside the axes\n",
    "                top=True, # draw ticks on the top axis\n",
    "                right=True, length=6, width=1)\n",
    "plt.yticks(fontsize=16)\n",
    "plt.xticks(fontsize=16)\n",
    "plt.ylim(0,30)\n",
    "plt.legend(fontsize=18,frameon=False)\n",
    "plt.show()\n",
    "plt.close()"
   ]
  },
  {
   "cell_type": "code",
   "execution_count": null,
   "metadata": {
    "id": "AySNF3IrtYXg"
   },
   "outputs": [],
   "source": []
  },
  {
   "cell_type": "code",
   "execution_count": null,
   "metadata": {
    "id": "ZkF5d0nWtYXg"
   },
   "outputs": [],
   "source": []
  }
 ],
 "metadata": {
  "colab": {
   "include_colab_link": true,
   "name": "ATLAS-H4lpt.ipynb",
   "provenance": []
  },
  "kernelspec": {
   "display_name": "Python 3",
   "language": "python",
   "name": "python3"
  },
  "language_info": {
   "codemirror_mode": {
    "name": "ipython",
    "version": 3
   },
   "file_extension": ".py",
   "mimetype": "text/x-python",
   "name": "python",
   "nbconvert_exporter": "python",
   "pygments_lexer": "ipython3",
   "version": "3.7.6"
  }
 },
 "nbformat": 4,
 "nbformat_minor": 4
}
