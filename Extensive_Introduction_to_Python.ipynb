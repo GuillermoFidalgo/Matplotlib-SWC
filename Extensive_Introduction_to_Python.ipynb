{
  "nbformat": 4,
  "nbformat_minor": 0,
  "metadata": {
    "colab": {
      "name": "Introduction to Python.ipynb",
      "provenance": [],
      "include_colab_link": true
    },
    "kernelspec": {
      "name": "python3",
      "display_name": "Python 3"
    }
  },
  "cells": [
    {
      "cell_type": "markdown",
      "metadata": {
        "id": "view-in-github",
        "colab_type": "text"
      },
      "source": [
        "<a href=\"https://colab.research.google.com/github/GuillermoFidalgo/Matplotlib-SWC/blob/main/Extensive_Introduction_to_Python.ipynb\" target=\"_parent\"><img src=\"https://colab.research.google.com/assets/colab-badge.svg\" alt=\"Open In Colab\"/></a>"
      ]
    },
    {
      "cell_type": "markdown",
      "metadata": {
        "id": "VbL9KtzvGOx0"
      },
      "source": [
        "#**Introduction to Python**#\n",
        "We will teach the following:\n",
        "* Variables\n",
        "* Numeric and String Operations\n",
        "* Conditionals\n",
        "* Functions\n",
        "* Collections\n",
        "* Loops \n",
        "* Reading and Visualizing Data\n",
        "\n",
        "\\\n",
        "References:\n",
        "  * Introduction to Markdwon and Python notebook, by Adam Pritchard (2017), Scientific Software Club at UPRM (2020)\n",
        "  * Computational Physics, by Mark Newman (2013)\n",
        "  * Think Python: How to Think Like a Computer Scientist, by Allen Downey (2012)\n",
        "\n"
      ]
    },
    {
      "cell_type": "markdown",
      "metadata": {
        "id": "9rALxlUbH_oP"
      },
      "source": [
        "#**Declaring Variables**#"
      ]
    },
    {
      "cell_type": "markdown",
      "metadata": {
        "id": "k7B44uo98dU2"
      },
      "source": [
        "Simply assinging a value to some letter or a word of your choosing. \n",
        "* You can add other special characters, such as an underscore ( _ )\n",
        "* They can have numbers, but cannot start with them nor some other symbols.\n",
        "* Upper and lower-case letters are distinct! Having a variable x and another as X will give you two distinct variables, although doing this is not recommended.\n"
      ]
    },
    {
      "cell_type": "code",
      "metadata": {
        "id": "dgE1gzVjGAyZ"
      },
      "source": [
        "# integer variables\n",
        "x = 10\n",
        "y = int(20)\n",
        "\n",
        "# float variables \n",
        "pi = 3.1415\n",
        "half = 1/2\n",
        "h = 6.63e-34  #J/s\n",
        "a = float(3)  # = 3.0\n",
        "\n",
        "# Complex variables\n",
        "z = 1 + 2j               #in Python, we use j instead of i for the imaginary number \n",
        "\n",
        "# Boolean variables\n",
        "t = True\n",
        "f = False\n",
        "\n",
        "# strings variables         they store letters, punctuations, symbols, and digits\n",
        "s1 = \"Welcome\"\n",
        "s2 = \" 2\"\n",
        "s3 = \" this Workshop!\""
      ],
      "execution_count": null,
      "outputs": []
    },
    {
      "cell_type": "code",
      "metadata": {
        "colab": {
          "base_uri": "https://localhost:8080/"
        },
        "id": "LuZ5XuRkg0D5",
        "outputId": "d6014342-6663-4e5c-f4ff-fbaeb893a78c"
      },
      "source": [
        "# input (statement) variables\n",
        "time = input(\"What time is it? \")\n",
        "print(\"The time is \", time)\n",
        "# This will print out whatever string is in the parenthesis. The user must write a value for \"time\"\n",
        "# The user's value will be considered a string!\n",
        "\n",
        "# For our purposes, we want whatever value we input to be a number, \n",
        "# so we declare another variable which takes temp and turns it into what we need\n",
        "temp = input(\"What is the temperatue? \")\n",
        "T = float(temp)\n",
        "print(\"The temperature is \",T,\" degrees C.\")\n",
        "\n",
        "# we could have also done it like temp = float(input(\"What is the temperature?\"))"
      ],
      "execution_count": null,
      "outputs": [
        {
          "output_type": "stream",
          "text": [
            "What time is it? 3:31\n",
            "The time is  3:31\n",
            "What is the temperatue? 28\n",
            "The temperature is  28.0  degrees C.\n"
          ],
          "name": "stdout"
        }
      ]
    },
    {
      "cell_type": "markdown",
      "metadata": {
        "id": "eX4HQ14IGMe0"
      },
      "source": [
        "###String Operations###"
      ]
    },
    {
      "cell_type": "code",
      "metadata": {
        "colab": {
          "base_uri": "https://localhost:8080/"
        },
        "id": "YzPZlym2J4-j",
        "outputId": "9b39e2ab-ae8b-4990-af36-dc023141ddc5"
      },
      "source": [
        "# string concatenation\n",
        "s4 = s1 + s2 + s3\n",
        "\n",
        "print (s4)"
      ],
      "execution_count": null,
      "outputs": [
        {
          "output_type": "stream",
          "text": [
            "Welcome 2 this Workshop!\n"
          ],
          "name": "stdout"
        }
      ]
    },
    {
      "cell_type": "markdown",
      "metadata": {
        "id": "iAzkX_5XKAVE"
      },
      "source": [
        "###Numeric Operations"
      ]
    },
    {
      "cell_type": "markdown",
      "metadata": {
        "id": "f9L873x0lnyl"
      },
      "source": [
        "You can add variables of different types. The result will be the more general of the two types. If you...\n",
        "* add an int with a float, the result will be a float\n",
        "* add a float with a complex, the result will be a complex"
      ]
    },
    {
      "cell_type": "code",
      "metadata": {
        "colab": {
          "base_uri": "https://localhost:8080/"
        },
        "id": "dJgI3QzbJ_UG",
        "outputId": "4e521c11-6d05-4322-9abf-d24d73ea4caa"
      },
      "source": [
        "#x = 10; y = 20\n",
        "adding = x + y\n",
        "\n",
        "subtract = x - y\n",
        "\n",
        "multiply = x*y\n",
        "\n",
        "power = x**y\n",
        "\n",
        "division = x / y     #the result is either a float (most of the time) or a complex\n",
        "\n",
        "intdiv = x // y      #the result of x / y is rounded down to the nearest interger\n",
        "\n",
        "modulus = x % y      #the remainder of x / y\n",
        "\n",
        "print (\"x + y =\",adding)\n",
        "print (\"x - y =\",subtract)\n",
        "print (\"x * y =\", multiply)\n",
        "print (\"x ^ y =\", power)\n",
        "print (\"x / y =\",division)\n",
        "print (\"x // y =\",intdiv)\n",
        "print ('x % y =',modulus)"
      ],
      "execution_count": null,
      "outputs": [
        {
          "output_type": "stream",
          "text": [
            "x + y = 30\n",
            "x - y = -10\n",
            "x * y = 200\n",
            "x ^ y = 100000000000000000000\n",
            "x / y = 0.5\n",
            "x // y = 0\n",
            "x % y = 10\n"
          ],
          "name": "stdout"
        }
      ]
    },
    {
      "cell_type": "markdown",
      "metadata": {
        "id": "5opIzRPb5ZhQ"
      },
      "source": [
        "##**Python Modifiers**"
      ]
    },
    {
      "cell_type": "code",
      "metadata": {
        "id": "H9Lg2Aq-5Y5L"
      },
      "source": [
        "# Say we have \n",
        "b = 0\n",
        "# We can perform operations on this variable like so... #b = b + 1\n",
        "b += 1\n",
        "b -= 2\n",
        "b *= 3\n",
        "b /= 4\n",
        "b //= 5"
      ],
      "execution_count": null,
      "outputs": []
    },
    {
      "cell_type": "markdown",
      "metadata": {
        "id": "DGe2NNAuL0mo"
      },
      "source": [
        "# **Conditionals**\n",
        "Allows a program to execute a code when a defined condition is met. We test the conditions by comparing statements using the following options:\n",
        "#### < \n",
        "#### <=\n",
        "#### >\n",
        "#### >=\n",
        "#### ==\n",
        "#### !=\n"
      ]
    },
    {
      "cell_type": "markdown",
      "metadata": {
        "id": "qzJtYX_TCWl4"
      },
      "source": [
        "##If Statement##\n",
        "* Execute some code if a condition is met\n",
        "\n",
        "![If-elseif](https://cdn.programiz.com/sites/tutorial2program/files/Python_if_elif_else_statement.jpg)\n",
        "\n",
        "* You can add an \"elif\" (else if) and/or an \"else\"\n",
        "  * elif: executes when the if-statement condition is not met\n",
        "  * else: executes when the elif condition is not met\n"
      ]
    },
    {
      "cell_type": "code",
      "metadata": {
        "colab": {
          "base_uri": "https://localhost:8080/"
        },
        "id": "BTkMvSotL2ew",
        "outputId": "8043518b-19f6-46ae-90b8-b18f6f5a54eb"
      },
      "source": [
        "# x = 10 ; y = 20\n",
        "\n",
        "if x < y:\n",
        "  print (\"x is less than y\")\n",
        "elif x > y:\n",
        "  print (\"x is bigger than y\")\n",
        "else:\n",
        "  print (\"x and y are equal\")"
      ],
      "execution_count": null,
      "outputs": [
        {
          "output_type": "stream",
          "text": [
            "x is less than y\n"
          ],
          "name": "stdout"
        }
      ]
    },
    {
      "cell_type": "markdown",
      "metadata": {
        "id": "wClSVnMEbY5P"
      },
      "source": [
        "* You can combine two or more conditions in an \"if statement\"\n",
        "\n",
        "\\\n",
        "Consider A and B as some Boolean condition we are comparing in combination...\n",
        "\n",
        "![boolean combination](https://qph.fs.quoracdn.net/main-qimg-bc8139bb7744e28bd6a2512156cc3520)\n",
        "* A **and** combination contidion is met if *both* A and B are true\n",
        "* An **or** combination condition is met if either A or B are true  "
      ]
    },
    {
      "cell_type": "code",
      "metadata": {
        "colab": {
          "base_uri": "https://localhost:8080/"
        },
        "id": "JWbV2Pv9Ewa9",
        "outputId": "73c5897e-c507-4d31-db6d-efee59242161"
      },
      "source": [
        "if x < y or x > y:\n",
        "  print (\"x is different than y\")\n",
        "else:\n",
        "  print (\"x and y are equal\") "
      ],
      "execution_count": null,
      "outputs": [
        {
          "output_type": "stream",
          "text": [
            "x is different than y\n"
          ],
          "name": "stdout"
        }
      ]
    },
    {
      "cell_type": "markdown",
      "metadata": {
        "id": "ciV3v-VHlRJU"
      },
      "source": [
        "##While Statement (Loop)\n",
        "* Similar to the if-statement, but enters the program into a loop, if its condition is met, until the condition is no longer met\n",
        "* If a while-statement condition is not met to begin with, its code is skipped\n",
        "\n",
        "![while loop](https://www.tutorialspoint.com/python/images/python_while_loop.jpg)"
      ]
    },
    {
      "cell_type": "code",
      "metadata": {
        "id": "xJ4C5p6ulYIx",
        "colab": {
          "base_uri": "https://localhost:8080/"
        },
        "outputId": "af0ed674-1690-469b-bc0e-723b3f748d92"
      },
      "source": [
        "# asks for a number greater than 10 \n",
        "w = int(input(\"Enter a value greater than 10:\"))\n",
        "while w < 10:\n",
        "  w = int(input(\"Enter a value greater than 10:\"))\n",
        "\n",
        "print (\"Your number is greater than 10\")"
      ],
      "execution_count": null,
      "outputs": [
        {
          "output_type": "stream",
          "text": [
            "Enter a value greater than 10:9\n",
            "Enter a value greater than 10:11\n",
            "Your number is greater than 10\n"
          ],
          "name": "stdout"
        }
      ]
    },
    {
      "cell_type": "code",
      "metadata": {
        "id": "BxxTkLIQoh1B",
        "colab": {
          "base_uri": "https://localhost:8080/"
        },
        "outputId": "461f14cf-58ef-4351-e999-b1622ca60d51"
      },
      "source": [
        "# Same code, but with a nested if-statement\n",
        "w = int(input(\"Enter a value greater than 10:\"))\n",
        "while w < 10:\n",
        "  w = int(input(\"Enter a value greater than 10:\"))\n",
        "  if w > 100:\n",
        "    print(\"You are breaking the loop\")\n",
        "    break\n",
        "\n",
        "  print (\"Your number is greater than 10\")\n",
        "\n",
        "# a break statement allows you to break out of the while-loop "
      ],
      "execution_count": null,
      "outputs": [
        {
          "output_type": "stream",
          "text": [
            "Enter a value greater than 10:9\n",
            "Enter a value greater than 10:101\n",
            "You are breaking the loop\n"
          ],
          "name": "stdout"
        }
      ]
    },
    {
      "cell_type": "markdown",
      "metadata": {
        "id": "hw2jRRKMo9iC"
      },
      "source": [
        "As seen from the previous example, you can nest statementes within statements (as much as you like):\n",
        "* ifs with ifs\n",
        "* ifs with while\n",
        "* while with while\n",
        "* while with ifs"
      ]
    },
    {
      "cell_type": "markdown",
      "metadata": {
        "id": "m6WHB8MAMTff"
      },
      "source": [
        "# **Functions**"
      ]
    },
    {
      "cell_type": "markdown",
      "metadata": {
        "id": "db-GfemZT--O"
      },
      "source": [
        "* They are useful when you need to execute some code more than once. \\\n",
        "Well first introduce **user-defined functions**\n",
        "* Function are defined using \n",
        "```python \n",
        "def name(argument):\n",
        "    [body]\n",
        "\n",
        "    return [something]\n",
        "```\n",
        "* You define a function and what it does in the body\n",
        "* They must end with return, otherwise they won't return a value or output \n",
        "* Although, not all functions need to end with a return. Withtout this statement, the functions returns a **None** value\n",
        "* Later in the code, you can call the function however times you need it, providing a desired argument.\n",
        "\n",
        "\n"
      ]
    },
    {
      "cell_type": "code",
      "metadata": {
        "colab": {
          "base_uri": "https://localhost:8080/",
          "height": 100
        },
        "id": "mUZK9OJzMVdC",
        "outputId": "10a5b8bb-bd53-42c3-bda0-8035c9f561ae"
      },
      "source": [
        "# a function that returns the square of whatever number you input\n",
        "def square(x):\n",
        "  return x**2\n",
        "\n",
        "# We can print a result of a function like so...\n",
        "print(square(x))\n",
        "\n",
        "# a function that substract the second number to the first you input\n",
        "def substract(x, y):\n",
        "  z = x - y \n",
        "  return print(z)\n",
        "\n",
        "# We can print a function just by calling it, if the function returns a print\n",
        "substract(x,y)\n",
        "\n",
        "# a functions that returns a \"sum\" of two string variables and a seperation\n",
        "def stringConcat(str1, str2, sep):\n",
        "  return str1 + sep + str2\n",
        "\n",
        "#printing a string function\n",
        "stringConcat(\"Hello\",\"World!\", \" \")\n",
        "\n",
        "# a function without a return statement, which returns None\n",
        "def sum(x,y):\n",
        "  s = x + y\n",
        "  return\n",
        "\n",
        "# a function without a return, which also returns None\n",
        "def product(x,y):\n",
        "  p = x*y\n",
        "\n",
        "\n",
        "# See how not having a return statement or a return results in a None\n",
        "print(sum(x,y))\n",
        "print(product(x,y))"
      ],
      "execution_count": null,
      "outputs": [
        {
          "output_type": "stream",
          "text": [
            "100\n",
            "-10\n",
            "None\n",
            "None\n"
          ],
          "name": "stdout"
        },
        {
          "output_type": "execute_result",
          "data": {
            "application/vnd.google.colaboratory.intrinsic+json": {
              "type": "string"
            },
            "text/plain": [
              "'Hello World!'"
            ]
          },
          "metadata": {
            "tags": []
          },
          "execution_count": 3
        }
      ]
    },
    {
      "cell_type": "markdown",
      "metadata": {
        "id": "0ZidCRTjiihF"
      },
      "source": [
        "## Functions from Libraries (Packages)\n",
        "* Facilities with functions that perform a certain task \n",
        "* You call these by writing something like: \n",
        "\n",
        "\n",
        "```python\n",
        "#selecting the functions you want to use\n",
        "from (library) import (function)\n",
        "```\n",
        "or...\n",
        "```python\n",
        "#importing the whole library\n",
        "import (library)\n",
        "```\n",
        "\n",
        "Some library examples are:\n",
        "* numpy\n",
        "  - Commonly used to work with arrays (we'll talk about this later)\n",
        "* math\n",
        "  - Has useful math functions\n",
        "* matplotlib\n",
        "  - Commonly used to work with plots using the _pyplot_ module (we'll talk about this later)\n",
        "  - a **module** contains definitions and statements from the library\n",
        "\n",
        "Note:\n",
        "* Some functions are already built-in to python, so there's is no need to import them. Some examples we've already seen are:\n",
        "  - **int()**     which makes whatever number an interger\n",
        "  - **float()**   which makes whatever number a float\n",
        "  - **print()**   which shows on screen what you write in the parenthesis\n",
        "  - **input()**   which asks the user to input a value for a variable\n"
      ]
    },
    {
      "cell_type": "markdown",
      "metadata": {
        "id": "Fl5mezmNM3GS"
      },
      "source": [
        "# **Collections (Containers)**\n",
        "Here we shall talk about dictionaries, tuples, lists and arrays, and what we can do with them.\n",
        "The general idea is that we want to have some variable be a set of values instead of a singular value, as we've shown previously.\n",
        "\n",
        "Here is how they look like:\n",
        "* list: [1, 2, 3, 4]\n",
        "\n",
        "* dictionaries: {key: value, key2:value2} \n",
        "\n",
        "* tuples: (1, 2, 3, 4)\n",
        "\n",
        "* arrays: [1 2 3 4]\n"
      ]
    },
    {
      "cell_type": "markdown",
      "metadata": {
        "id": "KlkU9J1A4Gap"
      },
      "source": [
        "#### **Lists**\n",
        "* Can be modified\n",
        "* Its elements can be the same or of different types\n",
        "* You can create an empty list, which you can fill later\n",
        "* They are one-dimensional\n",
        "* Can be created using the built-in function **list()**"
      ]
    },
    {
      "cell_type": "code",
      "metadata": {
        "id": "1kWaWnbWN3qK",
        "colab": {
          "base_uri": "https://localhost:8080/"
        },
        "outputId": "2c869561-7314-4ab6-92c6-0a579b65486a"
      },
      "source": [
        "from math import sqrt\n",
        "\n",
        "#Our list\n",
        "lst = [1, 2, 3, 4]\n",
        "\n",
        "# Here we replace the second element with 10\n",
        "lst[1] = 10\n",
        "\n",
        "print (\"List after element at index 1 was reassigned:\")\n",
        "print (lst)\n",
        "\n",
        "# We can sum all the elements of a list\n",
        "Lsum = sum(lst)\n",
        "\n",
        "# Find the minimum of the list\n",
        "Lmin = min(lst)\n",
        "\n",
        "# Find the maxium of a list\n",
        "Lmax = max(lst)\n",
        "\n",
        "# The the total number of elements of a list\n",
        "L = len(lst)\n",
        "\n",
        "# Calculate the average\n",
        "Lmean = sum(lst)/len(lst)\n",
        "\n",
        "# You can perform an operation on a whole list, creating an \"iterator\"\n",
        "Lroot = map(sqrt,lst)\n",
        "\n",
        "# We can convert this iterator into a new list being doing...\n",
        "Lroot = list(map(sqrt,lst))\n",
        "\n",
        "\n",
        "\n",
        "# We can shorten a list by doing lst[x:y], where it goes from x to the element just before y\n",
        "print (\"Sliced list from index=1 -> index=3:\")\n",
        "print (lst[1:3])\n",
        "\n",
        "# We can add an element to an exiting list. It adds it to the end of the list \n",
        "lst.append(5)\n",
        "print ('List after adding the element \"5\": ')\n",
        "print (lst)\n",
        "\n",
        "# We can eliminate the last element from a list.\n",
        "# You can also specify the index of an element from the list to eliminate it specifically using pop(n)\n",
        "lst.pop()\n",
        "print (\"List after executing pop():\")\n",
        "print (lst)\n",
        "\n",
        "# We can eliminate a specific element (writing the exact value of the element, not its index)\n",
        "lst.remove(10)\n",
        "print ('List after removing elemtent \"10\":')\n",
        "print (lst)"
      ],
      "execution_count": null,
      "outputs": [
        {
          "output_type": "stream",
          "text": [
            "List after element at index 1 was reassigned:\n",
            "[1, 10, 3, 4]\n",
            "Sliced list from index=1 -> index=3:\n",
            "[10, 3]\n",
            "List after adding the element \"5\": \n",
            "[1, 10, 3, 4, 5]\n",
            "List after executing pop():\n",
            "[1, 10, 3, 4]\n",
            "List after removing elemtent \"10\":\n",
            "[1, 3, 4]\n"
          ],
          "name": "stdout"
        }
      ]
    },
    {
      "cell_type": "markdown",
      "metadata": {
        "id": "_dGD4QpKQpzR"
      },
      "source": [
        "The difference between removing an element using pop or remove:\n",
        "* Pop argument is the index of the list, while remove argument is the specific value of the element we want to eliminate\n",
        "* Pop returns a copy of the list with the eliminated element; it creates a new object, while remove does not. "
      ]
    },
    {
      "cell_type": "markdown",
      "metadata": {
        "id": "s_HYnr03_k-1"
      },
      "source": [
        "### **Dictionaries**\n",
        "* A dictionary can be created with the built-in function **dict**\n",
        "* They are like lists, but their indices can be of (almost) any type.\n",
        "* Their indices are known as **keys** and these are associated to a **value**. This association is known as an **item** or **key-value pair**."
      ]
    },
    {
      "cell_type": "code",
      "metadata": {
        "colab": {
          "base_uri": "https://localhost:8080/"
        },
        "id": "VPNY52MpBiHN",
        "outputId": "da37a160-b9e9-4fa7-e78e-c06a7b833fcf"
      },
      "source": [
        "# Let's create a dictionary that takes a word in english and translates it to spanish (clearly, both keys and values are strings)\n",
        "# We first declare a variable and assign it an empty dictionary\n",
        "eng_sp = dict()\n",
        "print(eng_sp)"
      ],
      "execution_count": null,
      "outputs": [
        {
          "output_type": "stream",
          "text": [
            "{}\n"
          ],
          "name": "stdout"
        }
      ]
    },
    {
      "cell_type": "code",
      "metadata": {
        "colab": {
          "base_uri": "https://localhost:8080/"
        },
        "id": "XlP6m1yEED-n",
        "outputId": "ac11edb9-09ed-433f-e678-7e1831b9b907"
      },
      "source": [
        "#Let's add a key-value pairs to the dictionary\n",
        "eng_sp[\"one\"]=\"uno\"\n",
        "print(eng_sp)\n",
        "print()"
      ],
      "execution_count": null,
      "outputs": [
        {
          "output_type": "stream",
          "text": [
            "{'one': 'uno'}\n",
            "\n"
          ],
          "name": "stdout"
        }
      ]
    },
    {
      "cell_type": "code",
      "metadata": {
        "colab": {
          "base_uri": "https://localhost:8080/"
        },
        "id": "aPVt16D6FYT8",
        "outputId": "a558d388-b09f-4951-b239-ba8cdcb173ef"
      },
      "source": [
        "#Let's add more elements...\n",
        "eng_sp[\"two\"]= \"dos\"\n",
        "eng_sp[\"three\"]= \"tres\"\n",
        "print(eng_sp)"
      ],
      "execution_count": null,
      "outputs": [
        {
          "output_type": "stream",
          "text": [
            "{'one': 'uno', 'two': 'dos', 'three': 'tres'}\n"
          ],
          "name": "stdout"
        }
      ]
    },
    {
      "cell_type": "code",
      "metadata": {
        "colab": {
          "base_uri": "https://localhost:8080/"
        },
        "id": "av8EY5ryGEEo",
        "outputId": "c30aa60c-c69c-4dcd-8127-d37ceb092cf5"
      },
      "source": [
        "#Or we could have just created the dictionary from the beginning  \n",
        "eng_sp = {\"one\": \"uno\", \"two\": \"dos\", \"three\": \"tres\", \"four\": \"cuatro\", \"two\": 2}\n",
        "print(eng_sp)\n",
        "\n",
        "# by adding a same key with a new value, it will take the most recent value\n",
        "# and, the key-value pair doesn't necessarily need to be of the same type!"
      ],
      "execution_count": null,
      "outputs": [
        {
          "output_type": "stream",
          "text": [
            "{'one': 'uno', 'two': 2, 'three': 'tres', 'four': 'cuatro'}\n"
          ],
          "name": "stdout"
        }
      ]
    },
    {
      "cell_type": "markdown",
      "metadata": {
        "id": "8VC-EgvGFE0f"
      },
      "source": [
        "Note:\n",
        "* The order of the key-item pairs wouldn't necessarily print in the same orde each time.\n",
        "* The pairs not being stored with interger indices is not a problem, because we only care that a key exist in the dictionary and that it has a value to it.\n",
        "\\\n",
        "\\\n",
        "We can find out...\n",
        "1. what value some key in a dictionary has  (this is called \"lookup\")\n",
        "2. if a key exists in a dictionary\n",
        "3. the amount of key-value pairs that exist \n",
        "4. if something appears as a value in a dictionary  (this is called a \"reverse lookup\")"
      ]
    },
    {
      "cell_type": "code",
      "metadata": {
        "colab": {
          "base_uri": "https://localhost:8080/"
        },
        "id": "rXR2e5mCK0GJ",
        "outputId": "e1d4d5e3-1ff0-4d2f-e8f2-6fdd02ee3b77"
      },
      "source": [
        "# Let see what value does \"three\" has\n",
        "print (eng_sp[\"three\"])\n",
        "print()\n",
        "\n",
        "# Let see if the key \"zero\" exits\n",
        "# print (eng_sp[\"zero\"]) returns an error so... \n",
        "# We'll use the \"in\" operator\n",
        "print (\"zero\" in eng_sp)\n",
        "print()\n",
        "\n",
        "# Let see how many key-value pairs exists in eng_sp\n",
        "print (len(eng_sp))\n",
        "print()\n",
        "\n",
        "# Let see if a value belongs to eng_sp\n",
        "# We'll use the \"values\" method with the \"in\" operator\n",
        "print (\"cinco\" in eng_sp.values())"
      ],
      "execution_count": null,
      "outputs": [
        {
          "output_type": "stream",
          "text": [
            "tres\n",
            "\n",
            "False\n",
            "\n",
            "4\n",
            "\n",
            "False\n"
          ],
          "name": "stdout"
        }
      ]
    },
    {
      "cell_type": "markdown",
      "metadata": {
        "id": "vWqxgb2rbQnk"
      },
      "source": [
        "* We can use a Dictionary as a set of counters\\\n",
        "Suppose you are given a string and you want to count how many times each letter appears... \\"
      ]
    },
    {
      "cell_type": "code",
      "metadata": {
        "colab": {
          "base_uri": "https://localhost:8080/"
        },
        "id": "DpyocFgrca_h",
        "outputId": "563ff5fc-17a1-4010-c086-bec01aa0465b"
      },
      "source": [
        "# Here is a function that has a local empty dictionary \n",
        "def lettercount(word):\n",
        "  alphabet = dict()\n",
        "  for letter in word:               # the for-loop fills the dictionary \n",
        "    if letter not in alphabet:\n",
        "      alphabet[letter] = 1\n",
        "    else:\n",
        "      alphabet[letter] += 1\n",
        "  return alphabet\n",
        "\n",
        "\n",
        "yourword = lettercount(\"Python Workshop\")\n",
        "print(yourword)\n",
        "\n",
        "print()\n",
        "\n",
        "# Or make it more presentable \n",
        "def print_count(word):\n",
        "  for letter in word:\n",
        "    print (letter, word[letter])\n",
        "\n",
        "print_count(yourword)   "
      ],
      "execution_count": null,
      "outputs": [
        {
          "output_type": "stream",
          "text": [
            "{'P': 1, 'y': 1, 't': 1, 'h': 2, 'o': 3, 'n': 1, ' ': 1, 'W': 1, 'r': 1, 'k': 1, 's': 1, 'p': 1}\n",
            "\n",
            "P 1\n",
            "y 1\n",
            "t 1\n",
            "h 2\n",
            "o 3\n",
            "n 1\n",
            "  1\n",
            "W 1\n",
            "r 1\n",
            "k 1\n",
            "s 1\n",
            "p 1\n"
          ],
          "name": "stdout"
        }
      ]
    },
    {
      "cell_type": "markdown",
      "metadata": {
        "id": "bSLmNDs6COAu"
      },
      "source": [
        "* If we want to keep track of values that have already been computed, we can use a **memo**\n",
        "Let's see an example..."
      ]
    },
    {
      "cell_type": "code",
      "metadata": {
        "colab": {
          "base_uri": "https://localhost:8080/"
        },
        "id": "JMkFhrdOBb3L",
        "outputId": "654e76cf-0dee-4a7c-cb86-daa7444f18a8"
      },
      "source": [
        "known = {0:0, 1:1}\n",
        "\n",
        "# Let's create a function that returns the Fibonacci result from a given n\n",
        "def fibonacci(n):\n",
        "  if n in known:            #checks if the number is in the dictionary \n",
        "    return known[n]         #if so, returns that results\n",
        "\n",
        "  res = fibonacci(n-1) + fibonacci(n-2)      #calculates the fibonacci from the given n\n",
        "  known[n] = res                             #adds n as a new key, with res as its value\n",
        "\n",
        "  return res\n",
        "                              \n",
        "print(\"The fibonacci of the given number is\", fibonacci(50))\n",
        "print(\"The dictionary is now:\")\n",
        "print(known)"
      ],
      "execution_count": null,
      "outputs": [
        {
          "output_type": "stream",
          "text": [
            "The fibonacci of the given number is 12586269025\n",
            "The dictionary is now:\n",
            "{0: 0, 1: 1, 2: 1, 3: 2, 4: 3, 5: 5, 6: 8, 7: 13, 8: 21, 9: 34, 10: 55, 11: 89, 12: 144, 13: 233, 14: 377, 15: 610, 16: 987, 17: 1597, 18: 2584, 19: 4181, 20: 6765, 21: 10946, 22: 17711, 23: 28657, 24: 46368, 25: 75025, 26: 121393, 27: 196418, 28: 317811, 29: 514229, 30: 832040, 31: 1346269, 32: 2178309, 33: 3524578, 34: 5702887, 35: 9227465, 36: 14930352, 37: 24157817, 38: 39088169, 39: 63245986, 40: 102334155, 41: 165580141, 42: 267914296, 43: 433494437, 44: 701408733, 45: 1134903170, 46: 1836311903, 47: 2971215073, 48: 4807526976, 49: 7778742049, 50: 12586269025}\n"
          ],
          "name": "stdout"
        }
      ]
    },
    {
      "cell_type": "markdown",
      "metadata": {
        "id": "rrsb_H8pNi9F"
      },
      "source": [
        "### **Tuples** \n",
        "* A sequence of values that are  immutable once they are declared (they cannot be modified).\n",
        "* Its value can be of any type\n",
        "* Can be created using the built-in function: **tuple()**\n",
        "\n"
      ]
    },
    {
      "cell_type": "code",
      "metadata": {
        "colab": {
          "base_uri": "https://localhost:8080/"
        },
        "id": "97eowF2deqwV",
        "outputId": "e6453b96-3f2e-457b-cfd0-fe6901436c93"
      },
      "source": [
        "# Create a tuple by assinging it tu a variable \n",
        "t = (1.0, 2.0, 3.0, 4.0)\n",
        "print(t)\n",
        "\n",
        "# If you make a tuple with only one value, it ends with a coma\n",
        "t = '1',\n",
        "\n",
        "# Creating it with the built-in function is simply...\n",
        "t = tuple('1.0,2.0,3.0')\n",
        "print(t)\n",
        "print()\n",
        "# This could be most useful by creating a tuple from a string\n",
        "t = tuple('example')\n",
        "print(t)\n",
        "print()\n",
        "\n",
        "# You can see a particular index of the tuple\n",
        "print(t[2])\n",
        "print()\n",
        "\n",
        "# You can slice...\n",
        "print(t[:4])\n",
        "print()\n",
        "\n",
        "# You can't modify, but you could replace a tuple with another!\n",
        "t =  ('E',) + t[1:]\n",
        "print(t)"
      ],
      "execution_count": null,
      "outputs": [
        {
          "output_type": "stream",
          "text": [
            "(1.0, 2.0, 3.0, 4.0)\n",
            "('1', '.', '0', ',', '2', '.', '0', ',', '3', '.', '0')\n",
            "\n",
            "('e', 'x', 'a', 'm', 'p', 'l', 'e')\n",
            "\n",
            "a\n",
            "\n",
            "('e', 'x', 'a', 'm')\n",
            "\n",
            "('E', 'x', 'a', 'm', 'p', 'l', 'e')\n"
          ],
          "name": "stdout"
        }
      ]
    },
    {
      "cell_type": "code",
      "metadata": {
        "id": "tKchKOTBR346",
        "colab": {
          "base_uri": "https://localhost:8080/"
        },
        "outputId": "7e26c380-972f-4307-a24a-cc795e16caa2"
      },
      "source": [
        "# Strings are treated as a Tuple (IMMUTABLE)\n",
        "\n",
        "stringTest = \"Happy Birthday!\"\n",
        "\n",
        "# string substring from index 0..5\n",
        "print (stringTest[0:5])\n",
        "\n",
        "# string substring from index 6..n-1\n",
        "print (stringTest[6:])"
      ],
      "execution_count": null,
      "outputs": [
        {
          "output_type": "stream",
          "text": [
            "Happy\n",
            "Birthday!\n"
          ],
          "name": "stdout"
        }
      ]
    },
    {
      "cell_type": "markdown",
      "metadata": {
        "id": "ENDPWLziiKZS"
      },
      "source": [
        "* **tuple asignment** can be very useful if we want to swap values between two variables!"
      ]
    },
    {
      "cell_type": "code",
      "metadata": {
        "id": "hxD_IhstjI2G"
      },
      "source": [
        "# Normally we would need a temporary variable to do this swap\n",
        "temp = a\n",
        "a = b\n",
        "b = temp\n",
        "\n",
        "# Tuple assignment can make this process very easily...\n",
        "a, b = b, a\n",
        "# The left side is a tuple of variables; the right is a tuple expression!\n",
        "# It is important that the number of varaibles and values match!"
      ],
      "execution_count": null,
      "outputs": []
    },
    {
      "cell_type": "markdown",
      "metadata": {
        "id": "6d6fEqelkNa0"
      },
      "source": [
        "Recall that a **function** returns a single value...\n",
        "* A function that returns a **tuple** is the equivalent to returning multiple values!"
      ]
    },
    {
      "cell_type": "code",
      "metadata": {
        "colab": {
          "base_uri": "https://localhost:8080/"
        },
        "id": "6HjLsaOEkuSC",
        "outputId": "b0b55a58-9728-465b-8606-b22229caa2bb"
      },
      "source": [
        "# Recall the built in functions min() and max()\n",
        "# Here is a function that returns the minimum and the maximum of a list:\n",
        "lst = [1,2,3,4]\n",
        "def min_max(lst):\n",
        "  return min(lst), max(lst)\n",
        "\n",
        "min_max(lst)"
      ],
      "execution_count": null,
      "outputs": [
        {
          "output_type": "execute_result",
          "data": {
            "text/plain": [
              "(1, 4)"
            ]
          },
          "metadata": {
            "tags": []
          },
          "execution_count": 10
        }
      ]
    },
    {
      "cell_type": "markdown",
      "metadata": {
        "id": "ZaLLM_TzmLni"
      },
      "source": [
        "#### Tuple and Lists\n",
        "It is good to talk about the built-in function **zip**\n",
        "* Takes two sequences (or more) and \"zips\" them into a list of tuples\n",
        "* Each tuple from this list contains one element from each sequence\n",
        "* This list of tuples acts as an iterator!\n"
      ]
    },
    {
      "cell_type": "code",
      "metadata": {
        "colab": {
          "base_uri": "https://localhost:8080/"
        },
        "id": "sfL16gmGmK2X",
        "outputId": "dd1a0cca-4c25-4392-ccd5-c2931bf73e3c"
      },
      "source": [
        "# We shall zip a string with a list of numbers\n",
        "s = \"abc\"\n",
        "lst = [1,2,3]\n",
        "\n",
        "# Since zip creates an iterator, let's make it a tuple to better visualize it\n",
        "slst = tuple(zip(s, lst))\n",
        "print (slst)"
      ],
      "execution_count": null,
      "outputs": [
        {
          "output_type": "stream",
          "text": [
            "(('a', 1), ('b', 2), ('c', 3))\n"
          ],
          "name": "stdout"
        }
      ]
    },
    {
      "cell_type": "markdown",
      "metadata": {
        "id": "UmfrGYjgtneZ"
      },
      "source": [
        "#### Tuples and Dictionaries\n",
        "In this case, it is good to talk about the **dictionary** method called **items**.\n",
        "* It takes a dictionary and returns a list of tuples\n",
        "* Each tuple contains a key-value pair\n",
        "* This tuple acts as an iterator!"
      ]
    },
    {
      "cell_type": "code",
      "metadata": {
        "colab": {
          "base_uri": "https://localhost:8080/"
        },
        "id": "LmEAtCgWuqbL",
        "outputId": "0cf9b98d-e732-4ea0-b699-3300cc4d9b7e"
      },
      "source": [
        "# Here's an example\n",
        "d = {'a':1, 'b':2, 'c':3}\n",
        "t = tuple(d.items())\n",
        "print(t)\n",
        "print()\n",
        "\n",
        "# We could also have it the other way: have a tuple list and make it into a dictionary! \n",
        "# For this we use the built-in function dict()\n",
        "t = (('a', 1), ('b', 2), ('c',3))\n",
        "d = dict(t)\n",
        "print(d)"
      ],
      "execution_count": null,
      "outputs": [
        {
          "output_type": "stream",
          "text": [
            "(('a', 1), ('b', 2), ('c', 3))\n",
            "\n",
            "{'a': 1, 'b': 2, 'c': 3}\n"
          ],
          "name": "stdout"
        }
      ]
    },
    {
      "cell_type": "markdown",
      "metadata": {
        "id": "g0wNYmjLxHPv"
      },
      "source": [
        "* The dictionary method **update** allows you to add a tuple list as key-value pairs to an existing dictionary"
      ]
    },
    {
      "cell_type": "code",
      "metadata": {
        "colab": {
          "base_uri": "https://localhost:8080/"
        },
        "id": "DpDuxNmDxN7I",
        "outputId": "9a9d5d76-0643-4cd2-cf4e-101b179eb7c6"
      },
      "source": [
        "d = {'a':1, 'b':2, 'c':3}\n",
        "t2 = (('d', 4), ('e', 5))\n",
        "\n",
        "d.update(t2)\n",
        "print(d)"
      ],
      "execution_count": null,
      "outputs": [
        {
          "output_type": "stream",
          "text": [
            "{'a': 1, 'b': 2, 'c': 3, 'd': 4, 'e': 5}\n"
          ],
          "name": "stdout"
        }
      ]
    },
    {
      "cell_type": "markdown",
      "metadata": {
        "id": "tR3vW81r06wB"
      },
      "source": [
        "#### Comparing Tuples\n",
        "* You can use relational operators to compare tuples\n",
        "* It compares the respective elements: first with first, and so on\n",
        "* It stops comparing after the relational condition is met (it ignores the further elements)"
      ]
    },
    {
      "cell_type": "code",
      "metadata": {
        "colab": {
          "base_uri": "https://localhost:8080/"
        },
        "id": "6KURojZy5OXo",
        "outputId": "7bb32f64-9eee-4981-97b7-f2ec09f5b954"
      },
      "source": [
        "(0,1,3) < (0,2000,2)"
      ],
      "execution_count": null,
      "outputs": [
        {
          "output_type": "execute_result",
          "data": {
            "text/plain": [
              "True"
            ]
          },
          "metadata": {
            "tags": []
          },
          "execution_count": 51
        }
      ]
    },
    {
      "cell_type": "markdown",
      "metadata": {
        "id": "xCdPaSfu5SRA"
      },
      "source": [
        "### **Arrays**\n",
        "* Can be modified\n",
        "* Its elements have to be of the same type. Their type cannot be changed after the array is created\n",
        "* The number of elements of an array are fixed (you cannot add or remove elements)\n",
        "* They can be two- or more -dimensional. Think of a matrix.\n",
        "* You can perform arithmetic between arrays of the same size (unlike with lists)\n",
        "* You can create an array from a list\n",
        "* They are faster to work with than lists.\n",
        "* Functions such as min, max, sum, len, and map are applicable on one-dimensional arrays\n",
        "* For two-dimensional arrays, there's a similar function to len\n",
        "  * size = the total number of elements\n",
        "  * shape = returns a tuple with two elements: the number of rows and columns, respectively.\n",
        "* You can also slice an array"
      ]
    },
    {
      "cell_type": "code",
      "metadata": {
        "colab": {
          "base_uri": "https://localhost:8080/"
        },
        "id": "3hbXbvNMOZcm",
        "outputId": "066f4e81-a39e-4106-a8de-28b468263461"
      },
      "source": [
        "# Let start with something simple\n",
        "\n",
        "from numpy import zeros\n",
        "a = zeros(4,int)            # creates a 1-D array with four interger zeros\n",
        "print (a)\n",
        "print()\n",
        "\n",
        "# we can create a 2-D array\n",
        "a = zeros([2,3],int)        # has 2 rows, 3 columns\n",
        "print (a)\n",
        "print()\n",
        "# Note how the [2,3] argument is a list. The more elements this list has, the higher the dimension of the array\n",
        "\n",
        "# You can't create an empty array then fill it, like you can with lists,\n",
        "# but you can create something similar using the \"empty\" function\n",
        "# With this, you create an \"empty\" array, which you can change values with\n",
        "from numpy import empty\n",
        "a = empty([2,2],float)\n",
        "print(a)"
      ],
      "execution_count": null,
      "outputs": [
        {
          "output_type": "stream",
          "text": [
            "[0 0 0 0]\n",
            "\n",
            "[[0 0 0]\n",
            " [0 0 0]]\n",
            "\n",
            "[[0. 0.]\n",
            " [0. 0.]]\n"
          ],
          "name": "stdout"
        }
      ]
    },
    {
      "cell_type": "code",
      "metadata": {
        "colab": {
          "base_uri": "https://localhost:8080/"
        },
        "id": "FJ48UPXnHzts",
        "outputId": "98b32a52-0334-440b-aff3-f8ac59ebb61d"
      },
      "source": [
        "# Something very useful is creating an array from a list\n",
        "# Consider the list from before...\n",
        "lst = [1,2,3,4]\n",
        "from numpy import array\n",
        "a = array(lst, float)\n",
        "print (a)\n",
        "print()\n",
        "\n",
        "# Modifying is simple: specify the element and assign a new value\n",
        "a[2] = 5   #changing the third element from 3 to 5\n",
        "print (a)\n",
        "print()\n",
        "\n",
        "# Performing arithmetic is simple as well\n",
        "# Let's multiply the array by 10\n",
        "b = 10*a\n",
        "print(b)\n",
        "print()\n",
        "\n",
        "# We can sum or subtract two arrays\n",
        "c = a+b\n",
        "print (b)\n",
        "print()\n",
        "\n",
        "# Multiplying two arrays, multiplies every element with the corresponding element on the other array\n",
        "d = a*b\n",
        "print (d)\n",
        "\n",
        "\n",
        "# What you might be expecting is that since arrays act as vectors, you get the dot product by multiplying\n",
        "# To get the doc product, we must import another function from numpy\n",
        "\n",
        "from numpy import dot\n",
        "d = dot(a,b)\n",
        "print (\"The dot product of a and b is\", d)\n",
        "print()\n",
        "\n",
        "# Let's create a 2-D array using \"a\" and \"b\"\n",
        "ab = array([a,b],int)\n",
        "print(ab)\n",
        "print()\n",
        "\n",
        "# Let's find the minimum for a\n",
        "print (\"The minimum is \",min(a))\n",
        "\n",
        "# Let's find the maximum for a\n",
        "print (\"The maximum is \",max(a))\n",
        "print()\n",
        "\n",
        "# Let's find the total amount of elements for ab\n",
        "print (\"The total amount of elements is \",ab.size)\n",
        "\n",
        "# Let's find out how many elements are rows and colums for ab\n",
        "print (\"The total amount of elements that are rows and column respective is \",ab.shape)\n",
        "\n",
        "# the shape-fuction actually returns a tuple, where the first element is the total number of row elements, and the second is of the columns."
      ],
      "execution_count": null,
      "outputs": [
        {
          "output_type": "stream",
          "text": [
            "[1. 2. 3. 4.]\n",
            "\n",
            "[1. 2. 5. 4.]\n",
            "\n",
            "[10. 20. 50. 40.]\n",
            "\n",
            "[10. 20. 50. 40.]\n",
            "\n",
            "[ 10.  40. 250. 160.]\n",
            "The dot product of a and b is 460.0\n",
            "\n",
            "[[ 1  2  5  4]\n",
            " [10 20 50 40]]\n",
            "\n",
            "The minimum is  1.0\n",
            "The maximum is  5.0\n",
            "\n",
            "The total amount of elements is  8\n",
            "The total amount of elements that are rows and column respective is  (2, 4)\n"
          ],
          "name": "stdout"
        }
      ]
    },
    {
      "cell_type": "markdown",
      "metadata": {
        "id": "Dh9VXq5cHwlg"
      },
      "source": [
        "###**For Loops**\n",
        "\n",
        "* Similar to the while loop\n",
        "* The loop runs through all the elements in a sequence in turn. \n",
        "* Once the sequence is covered, it exits from the loop\n",
        "\n",
        "![for loop](https://www.tutorialspoint.com/python/images/python_for_loop.jpg)"
      ]
    },
    {
      "cell_type": "code",
      "metadata": {
        "colab": {
          "base_uri": "https://localhost:8080/"
        },
        "id": "YNSdgot5Ed_D",
        "outputId": "500d07de-24e7-4c2e-8e22-63ee9bb03236"
      },
      "source": [
        "# Consider again the list, lst = [1, 2, 3, 4]\n",
        "lst = [1, 2, 3, 4]\n",
        "# Let's do a simple summation\n",
        "s = 0\n",
        "for n in lst:\n",
        "  print(\"This iteration has a value of \", n)\n",
        "  s += n\n",
        "  print(\"The sum is now \", s)\n",
        "  print()\n"
      ],
      "execution_count": null,
      "outputs": [
        {
          "output_type": "stream",
          "text": [
            "This iteration has a value of  1\n",
            "The sum is now  1\n",
            "\n",
            "This iteration has a value of  2\n",
            "The sum is now  3\n",
            "\n",
            "This iteration has a value of  3\n",
            "The sum is now  6\n",
            "\n",
            "This iteration has a value of  4\n",
            "The sum is now  10\n",
            "\n"
          ],
          "name": "stdout"
        }
      ]
    },
    {
      "cell_type": "markdown",
      "metadata": {
        "id": "PJ0i3GYGK3PU"
      },
      "source": [
        "#### Range function\n",
        "* A common use of **for loops** is to combine it with the *range* function \\\\\n",
        "\n",
        "We would write, in example\n",
        "\n",
        "```python\n",
        "for n in range(5):\n",
        "```\n",
        "* Range gives a consecutive iterator from a given interger value, which **for** loops over. In this case, it gives the iterators: [0, 1, 2, 3, 4] \\\\\n",
        "Note: \n",
        "* range produces an iterator, not a list, although it looks like one\n",
        "* The iterator starts at 0, not 1! \n",
        "* In this case, we speecified a range of 5. This means, the \"list\" has 5 elements\n",
        "* The argument we specify **must** be an interger!"
      ]
    },
    {
      "cell_type": "code",
      "metadata": {
        "colab": {
          "base_uri": "https://localhost:8080/"
        },
        "id": "EhZP07xoK2eW",
        "outputId": "39f29a5c-9435-4e8e-f386-77d93d280ccb"
      },
      "source": [
        "# Let's redo the previous example, but using range\n",
        "s = 0\n",
        "for n in range(5):\n",
        "  if n == 0:             # jumps over 0, so the prints are exactly like the previous example\n",
        "    continue\n",
        "  print(\"The iterator value is \", n)\n",
        "  s += n\n",
        "  print(\"The sum is now \", s)\n",
        "  print()"
      ],
      "execution_count": null,
      "outputs": [
        {
          "output_type": "stream",
          "text": [
            "The iterator value is  1\n",
            "The sum is now  1\n",
            "\n",
            "The iterator value is  2\n",
            "The sum is now  3\n",
            "\n",
            "The iterator value is  3\n",
            "The sum is now  6\n",
            "\n",
            "The iterator value is  4\n",
            "The sum is now  10\n",
            "\n"
          ],
          "name": "stdout"
        }
      ]
    },
    {
      "cell_type": "markdown",
      "metadata": {
        "id": "0p4k3lnnP5nk"
      },
      "source": [
        "There are some variations for the **range** arguments\n",
        "\n",
        "\n",
        "```python\n",
        "range(5)       # = [0, 1, 2, 3, 4]\n",
        "\n",
        "range(0,5)     # = [0, 1, 2, 3, 4]\n",
        "\n",
        "range(0,5,2)   # = [0, 2, 4]\n",
        "\n",
        "range(5,0,-1)  # = [5, 4, 3, 2, 1]\n",
        "```\n",
        "\n",
        "* A single argument gives an iterator with the specified number \n",
        "* Two arguments gives an iterator that start from the first argument and ends before the second argument\n",
        "* Three arguments gives an iterator that starts from the first argument, ends before the second, but jumps iterators by the amount of the third argument.\n"
      ]
    },
    {
      "cell_type": "code",
      "metadata": {
        "colab": {
          "base_uri": "https://localhost:8080/"
        },
        "id": "Ep90r2k2TKGY",
        "outputId": "64b8bbaf-d709-4c19-a851-f42915cf1a0b"
      },
      "source": [
        "# Let's redo the summation example one more time, but with two arguments \n",
        "s = 0\n",
        "for n in range(1,5):\n",
        "  print(\"The iterator value is \", n)\n",
        "  s += n\n",
        "  print(\"The sum is now \", s)\n",
        "  print()\n",
        "\n",
        "# Now, we did not need to use an if-statement to continue pass 0\n",
        "# Now we specified we wanted to start at 1"
      ],
      "execution_count": null,
      "outputs": [
        {
          "output_type": "stream",
          "text": [
            "The iterator value is  1\n",
            "The sum is now  1\n",
            "\n",
            "The iterator value is  2\n",
            "The sum is now  3\n",
            "\n",
            "The iterator value is  3\n",
            "The sum is now  6\n",
            "\n",
            "The iterator value is  4\n",
            "The sum is now  10\n",
            "\n"
          ],
          "name": "stdout"
        }
      ]
    },
    {
      "cell_type": "markdown",
      "metadata": {
        "id": "t9yYwGxWT38R"
      },
      "source": [
        "#### Arange function\n",
        "Another useful function is **arange**\n",
        "* Unlike **range**, it is not built-in, so you have to call it like so...\n",
        "\n",
        "\n",
        "```python\n",
        "from numpy import arange\n",
        "```\n",
        "\n",
        "\n",
        "* This returns an array instead of an iterator \n",
        "* You can give it float arguments, other than intergers\n",
        "* You can use the same argument-variations as with **range**"
      ]
    },
    {
      "cell_type": "code",
      "metadata": {
        "colab": {
          "base_uri": "https://localhost:8080/"
        },
        "id": "hSlbzxmLVpv7",
        "outputId": "0e192d2e-ab42-4e63-b147-a83a60cf96fe"
      },
      "source": [
        "# Let's redo the example using arange\n",
        "from numpy import arange\n",
        "s = 0\n",
        "for n in arange(1.0,5.0):\n",
        "  print(\"The iterator value is \", n)\n",
        "  s += n\n",
        "  print(\"The sum is now \", s)\n",
        "  print()"
      ],
      "execution_count": null,
      "outputs": [
        {
          "output_type": "stream",
          "text": [
            "The iterator value is  1.0\n",
            "The sum is now  1.0\n",
            "\n",
            "The iterator value is  2.0\n",
            "The sum is now  3.0\n",
            "\n",
            "The iterator value is  3.0\n",
            "The sum is now  6.0\n",
            "\n",
            "The iterator value is  4.0\n",
            "The sum is now  10.0\n",
            "\n"
          ],
          "name": "stdout"
        }
      ]
    },
    {
      "cell_type": "markdown",
      "metadata": {
        "id": "C3hd1eNeU4tK"
      },
      "source": [
        "#### Linspace function\n",
        "One final useful function is **linspace**\n",
        "* It's not built-in, so you need to call it...\n",
        "\n",
        "\n",
        "```python\n",
        "from numpy import linspace\n",
        "```\n",
        "* It also accepts intergets and float value arguments\n",
        "* It only returns an array with float values\n",
        "* It include the last value in the range argument\n",
        "* Its three arugments are ( interval beginning, interval ending, value to divide the interval)\n"
      ]
    },
    {
      "cell_type": "code",
      "metadata": {
        "colab": {
          "base_uri": "https://localhost:8080/"
        },
        "id": "UndMmemCTzrh",
        "outputId": "35e80f9d-e8af-4028-93c6-93181dde333f"
      },
      "source": [
        "# Let's do the summation example one last time, using linspace\n",
        "from numpy import linspace\n",
        "s = 0\n",
        "for n in linspace(1,4,4):\n",
        "  print(\"The iterator value is \", n)\n",
        "  s += n\n",
        "  print(\"The sum is now \", s)\n",
        "  print()\n"
      ],
      "execution_count": null,
      "outputs": [
        {
          "output_type": "stream",
          "text": [
            "The iterator value is  1.0\n",
            "The sum is now  1.0\n",
            "\n",
            "The iterator value is  2.0\n",
            "The sum is now  3.0\n",
            "\n",
            "The iterator value is  3.0\n",
            "The sum is now  6.0\n",
            "\n",
            "The iterator value is  4.0\n",
            "The sum is now  10.0\n",
            "\n"
          ],
          "name": "stdout"
        }
      ]
    },
    {
      "cell_type": "markdown",
      "metadata": {
        "id": "h9JM6ih4ZWwG"
      },
      "source": [
        "* You don't necesarrily have to use the functions range, arange or linspace with a **for** loop; you can use anything that goes through a list.\n",
        "* Say you have a list of values, like a data set. You can make a **for loop** loop through that data by the amount of values in it... "
      ]
    },
    {
      "cell_type": "markdown",
      "metadata": {
        "id": "8QjMW2PY_Q_4"
      },
      "source": [
        "#### Tuple and Lists (revisit)\n",
        "* We can traverse a list of tuples using a tuple assignment in a **for** loop "
      ]
    },
    {
      "cell_type": "code",
      "metadata": {
        "colab": {
          "base_uri": "https://localhost:8080/"
        },
        "id": "5Laf5NPJAzUr",
        "outputId": "c091214f-e344-4f96-8a7e-1725840639c3"
      },
      "source": [
        "tlst = [('a', 1), ('b', 2), ('c', 3)]\n",
        "\n",
        "for letter, number in tlst:\n",
        "  print (number, letter)"
      ],
      "execution_count": null,
      "outputs": [
        {
          "output_type": "stream",
          "text": [
            "1 a\n",
            "2 b\n",
            "3 c\n"
          ],
          "name": "stdout"
        }
      ]
    },
    {
      "cell_type": "markdown",
      "metadata": {
        "id": "KXn4-qmSBjfN"
      },
      "source": [
        "* If we need to traverse the elements of a sequence and their indices, we can use the built-in function **enumerate** "
      ]
    },
    {
      "cell_type": "code",
      "metadata": {
        "colab": {
          "base_uri": "https://localhost:8080/"
        },
        "id": "tzbF8O20Bi3H",
        "outputId": "aef15e7c-afdb-47aa-c95c-f3a9b10fff54"
      },
      "source": [
        "for i, element in enumerate('abcde'):\n",
        "  print (i, element)"
      ],
      "execution_count": null,
      "outputs": [
        {
          "output_type": "stream",
          "text": [
            "0 a\n",
            "1 b\n",
            "2 c\n",
            "3 d\n",
            "4 e\n"
          ],
          "name": "stdout"
        }
      ]
    },
    {
      "cell_type": "markdown",
      "metadata": {
        "id": "-o7DHGchCVin"
      },
      "source": [
        "#### Tuples and Dictionaries (revisit)\n",
        "* Combining tuple assignment, the _items_ method, and a **for** loop, you can traverse key-value pairs of a dictionary"
      ]
    },
    {
      "cell_type": "code",
      "metadata": {
        "colab": {
          "base_uri": "https://localhost:8080/"
        },
        "id": "b9O4vKfsDEIk",
        "outputId": "ea01e763-b1c3-4a57-e315-1ee60460e8a3"
      },
      "source": [
        "d = {'a': 1, 'b': 2, 'c': 3, 'd': 4, 'e': 5}\n",
        "for key, val in d.items():\n",
        "  print (val, key)"
      ],
      "execution_count": null,
      "outputs": [
        {
          "output_type": "stream",
          "text": [
            "1 a\n",
            "2 b\n",
            "3 c\n",
            "4 d\n",
            "5 e\n"
          ],
          "name": "stdout"
        }
      ]
    },
    {
      "cell_type": "markdown",
      "metadata": {
        "id": "XC2YJ6ZeDYvg"
      },
      "source": [
        "* We can combine _dict()_, _zip_, and _range_ to create a dictionary"
      ]
    },
    {
      "cell_type": "code",
      "metadata": {
        "colab": {
          "base_uri": "https://localhost:8080/"
        },
        "id": "0aX5czG6DmDr",
        "outputId": "16dd32fb-07a3-4b72-a0fc-6298cec11e75"
      },
      "source": [
        "d = dict(zip('abcdefghijklmnopqrstuvwxyz', range(1,27)))\n",
        "print(d)"
      ],
      "execution_count": null,
      "outputs": [
        {
          "output_type": "stream",
          "text": [
            "{'a': 1, 'b': 2, 'c': 3, 'd': 4, 'e': 5, 'f': 6, 'g': 7, 'h': 8, 'i': 9, 'j': 10, 'k': 11, 'l': 12, 'm': 13, 'n': 14, 'o': 15, 'p': 16, 'q': 17, 'r': 18, 's': 19, 't': 20, 'u': 21, 'v': 22, 'w': 23, 'x': 24, 'y': 25, 'z': 26}\n"
          ],
          "name": "stdout"
        }
      ]
    },
    {
      "cell_type": "markdown",
      "metadata": {
        "id": "wrDKoVz9EaXF"
      },
      "source": [
        "#### Comparing Tuples (revisit)\n",
        "* The **sort** function works like comparing a tuple (or a sequence, in general). "
      ]
    },
    {
      "cell_type": "code",
      "metadata": {
        "colab": {
          "base_uri": "https://localhost:8080/"
        },
        "id": "aMXK5OOIEmJO",
        "outputId": "687c1e14-40d0-4d27-eab1-8b41accd15aa"
      },
      "source": [
        "lst = [\"introduction\", \"to\", \"python\", \"workshop\"]\n",
        "\n",
        "# Define a function that sorts a list of words from longest to shortest\n",
        "def sort_by_length(lst):\n",
        "  t = []\n",
        "  for word in lst:                  # goes through each word in the list\n",
        "    t.append((len(word), word))     # adds a tuple of the size of the word and the word itself to the list 't'\n",
        "  \n",
        "  t.sort(reverse=True)              #sorts the tuple-list in reverse (longest to shortest word)\n",
        "\n",
        "  srtlst = []\n",
        "  for length, word in t:            # goes through the now-sorted tuple-list \n",
        "    srtlst.append(word)             # and adds that word to srtlst\n",
        "  \n",
        "  return srtlst                     # returns the sorted list \n",
        "\n",
        "print(sort_by_length(lst))"
      ],
      "execution_count": null,
      "outputs": [
        {
          "output_type": "stream",
          "text": [
            "['introduction', 'workshop', 'python', 'to']\n"
          ],
          "name": "stdout"
        }
      ]
    },
    {
      "cell_type": "markdown",
      "metadata": {
        "id": "-d9HKgzyrkKR"
      },
      "source": [
        "# **Visualization**\n",
        "Now we shall discuss how to make three types of graphs with Python:\n",
        "1. line graph\n",
        "2. scatter plot\n",
        "3. heat map (density plot)\n",
        "\n",
        "We will use the matplotlib library to import the functions needed to plot our graphs. We can do so in two ways... \n",
        "\n",
        "1. Speficically call the functions you want\n",
        "```python\n",
        "from matplotlib.pyplot import plot, show\n",
        "#later in the code\n",
        "plot()\n",
        "show()\n",
        "```\n",
        "\n",
        "\n",
        "2. import all the functions and call them later\n",
        "```python\n",
        "import matplotlib.pyplot as plt\n",
        "#later in the code\n",
        "plt.plot()\n",
        "plt.show()\n",
        "```\n",
        "\n",
        " "
      ]
    },
    {
      "cell_type": "markdown",
      "metadata": {
        "id": "VVG_nKlphh_d"
      },
      "source": [
        "## Line Graph\n",
        "Useful when we want to see how a dependent variable (some value) changes with respect to another."
      ]
    },
    {
      "cell_type": "code",
      "metadata": {
        "colab": {
          "base_uri": "https://localhost:8080/",
          "height": 265
        },
        "id": "NPSMNCTWoAJW",
        "outputId": "7d2b07e9-286f-441a-d654-c37fb235c44d"
      },
      "source": [
        "# Let's make a simple line graph from a list\n",
        "lst = [1, 2, 3, 4, 5, 6, 7, 8]\n",
        "\n",
        "# we import the plot and show functions\n",
        "from matplotlib.pyplot import plot, show\n",
        "\n",
        "plot(lst)   #takes the list or array we want plot as argument\n",
        "show()      #function that takes no argument. It goes after plot() to display the graph"
      ],
      "execution_count": null,
      "outputs": [
        {
          "output_type": "display_data",
          "data": {
            "image/png": "[encoded data removed]",
            "text/plain": [
              "<Figure size 432x288 with 1 Axes>"
            ]
          },
          "metadata": {
            "tags": [],
            "needs_background": "light"
          }
        }
      ]
    },
    {
      "cell_type": "markdown",
      "metadata": {
        "id": "oRz9_uysrQTw"
      },
      "source": [
        "We can make the code more clean! We can make better plots! \n",
        "\n",
        "We can give plot() two arguments!\n",
        "* The first argument will be the x-axis values and the second, the y-axis values\n",
        "\n",
        "\n",
        "We can give plot() more than two arguments:\n",
        "* to change the color of the line and how the graph is drawn:\n",
        "  - between \" \", we write a **letter** to indicate the color and some **symbols** to indicate the curve style.\n",
        "  \n",
        "   The letter (color) options are:\n",
        "   1. r (red)\n",
        "   2. g (green)\n",
        "   3. b (blue); it's the default\n",
        "   4. c (cyan)\n",
        "   5. m (magenta)\n",
        "   6. y (yellow)\n",
        "   7. k (black)\n",
        "   8. w (white)\n",
        "\n",
        "   Some options for curve style are:\n",
        "    1. \"-\" (solid line); it's the default \n",
        "    2. --  (dashed lines)\n",
        "    3. o   (circle-points, but not connected with lines)\n",
        "    4. .   (smaller-circle-points, not connected with lines)\n",
        "    5. s   (square-marks)\n",
        "We can also:\n",
        "* give the figure a title\n",
        "```python\n",
        "plt.title(\"A title\")\n",
        "```\n",
        "* give the axes labels\n",
        "  - import the **xlabel** and **ylabel** frunctions from matplotlib and write:\n",
        "```python\n",
        "plt.xlabel(\"this is a label\", fontsize = #)\n",
        "```\n",
        "* set axes limits\n",
        "  - import the **xlim** and **ylim** functions from matplotlib and write:\n",
        "```python\n",
        "plt.xlim(start #, end #)\n",
        "```\n",
        "* add a legend\n",
        "  - import **legend** from matplotlib and write:\n",
        "```python\n",
        "plt.legend(['data1','data2'], loc = \"specify a location\")   \n",
        "\n",
        "* change the figure's settings by calling the **figure** function:\n",
        "  - size: \n",
        "```python\n",
        "plt.figure( figsize=(float#,float#) )\n",
        "```\n",
        "  - change background's color\n",
        "```python\n",
        "plt.figure(facecolor=\"k\")\n",
        "```  \n",
        "  - change edge's color\n",
        "```python\n",
        "plt.figure(edgecolor=\"g\") \n",
        "```\n",
        "  - change the resolution in dots-per-inch\n",
        "```python\n",
        "plt.figure(dpi=100)\n",
        "```"
      ]
    },
    {
      "cell_type": "code",
      "metadata": {
        "colab": {
          "base_uri": "https://localhost:8080/",
          "height": 638
        },
        "id": "cW1qRdfyrU2w",
        "outputId": "7059ea06-cc25-4e22-800c-a246861e9465"
      },
      "source": [
        "import matplotlib.pyplot as plt\n",
        "\n",
        "x = [1,2,3,4,5,6,7,8,9,10,11,12,13,14,15,16,17,18,19,20,21,22,23,24,25,26,27,28,29,30,31]\n",
        "y = [0,3,5,5,6,6,14,21,23,31,39,51,64,79,100,127,174,239,286,316,378,452,475,513,573,620,683,725,788,897,903]\n",
        "\n",
        "#change the figure's look\n",
        "plt.figure(figsize=(4,3), dpi=200)\n",
        "#Plot the data\n",
        "plt.plot(x,y,\"r.\")\n",
        "\n",
        "#Then edit what you like...\n",
        "\n",
        "#Figure title and axes lables\n",
        "plt.title(\"CoronaVirus in Puerto Rico\")\n",
        "plt.xlabel(\"May 2020\")\n",
        "plt.ylabel(\"People sick\")\n",
        "plt.legend(['People sick'])\n",
        "\n",
        "plt.show()\n"
      ],
      "execution_count": null,
      "outputs": [
        {
          "output_type": "display_data",
          "data": {
            "image/png": "[encoded data removed]",
            "text/plain": [
              "<Figure size 800x600 with 1 Axes>"
            ]
          },
          "metadata": {
            "tags": [],
            "needs_background": "light"
          }
        }
      ]
    },
    {
      "cell_type": "markdown",
      "metadata": {
        "id": "tcRfeURlSwra"
      },
      "source": [
        "## Scatter Plots\n",
        "Useful to see how two dependent variables can relate to each other.\n",
        "\n",
        "\n",
        "* You have to call the **scatter** function from matplotlib\n",
        "```python\n",
        "import matplotlib.pyplot as plt\n",
        "#later...\n",
        "plt.scatter(x,y)\n",
        "plt.show()\n",
        "```\n",
        "* Cannot take another argument as the plot style is set to be a scatter plot\n",
        "* Can take the same **plt.figure()** arguments change your graph \n"
      ]
    },
    {
      "cell_type": "code",
      "metadata": {
        "id": "xmuRG3vYqXn0",
        "colab": {
          "base_uri": "https://localhost:8080/",
          "height": 645
        },
        "outputId": "9fbeae89-4e9a-4b04-f2cf-43f5cfa920d1"
      },
      "source": [
        "import matplotlib.pyplot as plt\n",
        "from google.colab import drive\n",
        "from numpy import loadtxt\n",
        "\n",
        "drive.mount('/content/drive')\n",
        "data_in_drive =\"/content/drive/MyDrive/Colab Notebooks/STEM Workshop/Feb 2021/Data/stars.txt\"\n",
        "\n",
        "data = loadtxt(data_in_drive, float)\n",
        "\n",
        "x = data[:,0]   #slice to assign everything from the first column\n",
        "y = data[:,1]    #slice to assing everything from the second column\n",
        "\n",
        "#Change the figure's look\n",
        "plt.figure(figsize=(3,3), dpi=200)\n",
        "\n",
        "#plot the data\n",
        "plt.scatter(x,y)\n",
        "\n",
        "plt.title(\"The Hertzsprung-Russel Diagram\", fontsize=8)\n",
        "plt.xlabel(\"Temperature\")\n",
        "plt.ylabel(\"Magnitude\")\n",
        "plt.xlim(0,13500)\n",
        "plt.ylim(-5,20)\n",
        "\n",
        "plt.show()\n",
        "\n",
        "\n"
      ],
      "execution_count": null,
      "outputs": [
        {
          "output_type": "stream",
          "text": [
            "Mounted at /content/drive\n"
          ],
          "name": "stdout"
        },
        {
          "output_type": "display_data",
          "data": {
            "image/png": "[encoded data removed]",
            "text/plain": [
              "<Figure size 600x600 with 1 Axes>"
            ]
          },
          "metadata": {
            "tags": [],
            "needs_background": "light"
          }
        }
      ]
    },
    {
      "cell_type": "markdown",
      "metadata": {
        "id": "HxCkAv1TvW7g"
      },
      "source": [
        "## Heat Maps\n",
        "\n",
        "Useful for working with two-dimensional grids of data\n",
        "\n",
        "* Color or brightness is used to indicate data values\n",
        "\n",
        "* Now we use the **imshow** function from matplotlib to produce these plots\n",
        "```python\n",
        "import matplotlib.pyplot as plt\n",
        "#later\n",
        "imshow()\n",
        "plot()\n",
        "```\n",
        "Let's look at an example:\n"
      ]
    },
    {
      "cell_type": "code",
      "metadata": {
        "colab": {
          "base_uri": "https://localhost:8080/",
          "height": 268
        },
        "id": "nCxTXUj1yJJ6",
        "outputId": "481fc179-aee9-436b-ef2e-a7a01599963f"
      },
      "source": [
        "import matplotlib.pyplot as plt\n",
        "from google.colab import drive\n",
        "from numpy import loadtxt\n",
        "\n",
        "data_in_drive =\"/content/drive/MyDrive/Colab Notebooks/STEM Workshop/Feb 2021/Data/circular.txt\"\n",
        "data = loadtxt(data_in_drive, float)\n",
        "\n",
        "#Plot\n",
        "plt.imshow(data)\n",
        "plt.show()\n",
        "\n"
      ],
      "execution_count": null,
      "outputs": [
        {
          "output_type": "display_data",
          "data": {
            "image/png": "[encoded data removed]",
            "text/plain": [
              "<Figure size 432x288 with 1 Axes>"
            ]
          },
          "metadata": {
            "tags": [],
            "needs_background": "light"
          }
        }
      ]
    },
    {
      "cell_type": "markdown",
      "metadata": {
        "id": "QRjX-3m8zEtU"
      },
      "source": [
        "Is it good to notice a couple of things:\n",
        "* Notice how the vertical axis starts from the upper-left corner, not the bottom-left\n",
        "* **imshow()** takes **data[i,j]** and plots the \" i \"  in the vertical column and \" j \" in the horizontal (opposite of what you would expect)\n",
        "\n",
        "\n",
        "We can edit this plot similarly as like with the others...\n",
        "* imshow() can take more arguments that allow you to\n",
        "  - invert the vertical axis\n",
        "```python\n",
        "plt.imshow(data, origin=\"lower\")\n",
        "```\n",
        "  - scale the axes\n",
        "```python\n",
        "plt.imshow(data, extent=[ horizontal-beginning, horizontal-end, vertical-beginning, vertical end ] \n",
        "```\n",
        "  This is similar to using **xlim** and **ylim**, although these actually changes the data that is being displayed; extent is more of a cosmetic change\n",
        "\n",
        "  - change the shape (aspect-ratio) of the plot\n",
        "```python\n",
        "plt.imshow(data, aspect= float#)\n",
        "```\n",
        "\n",
        "* We can also change the colors of the heatmap. Here are a few examples:\n",
        "  - jet           (default color-scheme)\n",
        "  - gray          (gray-scale; runs from black to white)\n",
        "  - hot           (goes black-red-yellow-white)\n",
        "  - spectral      (a spectrum with 7-defined colors, plus black and white)\n",
        "  - bone          (alternative gray-scale, but with a hint of blue)\n",
        "  - hsv           (rainbow-scheme that starts and ends with red)\n",
        "  - redblue       (runs from red to blue via black)\n",
        "  - redwhiteblue  (runs from red to blue via white)\n",
        "  - inversegray   (runs from white to black)\n"
      ]
    },
    {
      "cell_type": "code",
      "metadata": {
        "colab": {
          "base_uri": "https://localhost:8080/",
          "height": 252
        },
        "id": "4hmFeJ_EzEKy",
        "outputId": "ed726f71-2567-4f4b-efcc-5969ae091526"
      },
      "source": [
        "import matplotlib.pyplot as plt\n",
        "from google.colab import drive\n",
        "from numpy import loadtxt\n",
        "\n",
        "data_in_drive =\"/content/drive/MyDrive/Colab Notebooks/STEM Workshop/Feb 2021/Data/circular.txt\"\n",
        "data = loadtxt(data_in_drive, float)\n",
        "\n",
        "#Plot\n",
        "plt.imshow(data,origin=\"lower\", extent=[0,50,0,30])\n",
        "plt.hot()\n",
        "\n",
        "plt.show()"
      ],
      "execution_count": null,
      "outputs": [
        {
          "output_type": "display_data",
          "data": {
            "image/png": "[encoded data removed]",
            "text/plain": [
              "<Figure size 432x288 with 1 Axes>"
            ]
          },
          "metadata": {
            "tags": [],
            "needs_background": "light"
          }
        }
      ]
    }
  ]
}