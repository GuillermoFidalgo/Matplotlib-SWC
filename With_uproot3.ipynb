{
  "cells": [
    {
      "cell_type": "markdown",
      "metadata": {
        "id": "view-in-github",
        "colab_type": "text"
      },
      "source": [
        "<a href=\"https://colab.research.google.com/github/GuillermoFidalgo/Matplotlib-SWC/blob/main/With_uproot3.ipynb\" target=\"_parent\"><img src=\"https://colab.research.google.com/assets/colab-badge.svg\" alt=\"Open In Colab\"/></a>"
      ]
    },
    {
      "cell_type": "code",
      "source": [
        "! git clone https://github.com/Marchela04/Cap4-Matplotlib.git"
      ],
      "metadata": {
        "id": "MixR4mVxVWKO",
        "outputId": "9f9a2a81-7b7c-461b-e3a0-2238ee03e3c5",
        "colab": {
          "base_uri": "https://localhost:8080/"
        }
      },
      "id": "MixR4mVxVWKO",
      "execution_count": 8,
      "outputs": [
        {
          "output_type": "stream",
          "name": "stdout",
          "text": [
            "Cloning into 'Cap4-Matplotlib'...\n",
            "remote: Enumerating objects: 40, done.\u001b[K\n",
            "remote: Counting objects: 100% (40/40), done.\u001b[K\n",
            "remote: Compressing objects: 100% (35/35), done.\u001b[K\n",
            "remote: Total 40 (delta 9), reused 28 (delta 3), pack-reused 0\u001b[K\n",
            "Unpacking objects: 100% (40/40), done.\n"
          ]
        }
      ]
    },
    {
      "cell_type": "code",
      "source": [
        "! pip install -r Cap4-Matplotlib/requirements.txt"
      ],
      "metadata": {
        "id": "WvzUANSKWrc0",
        "outputId": "103ab13d-ac7e-49f6-ff63-9c8f92313e21",
        "colab": {
          "base_uri": "https://localhost:8080/",
          "height": 1000
        }
      },
      "id": "WvzUANSKWrc0",
      "execution_count": 31,
      "outputs": [
        {
          "output_type": "stream",
          "name": "stdout",
          "text": [
            "Requirement already satisfied: pandas in /usr/local/lib/python3.7/dist-packages (from -r Cap4-Matplotlib/requirements.txt (line 1)) (1.3.5)\n",
            "Requirement already satisfied: uproot3 in /usr/local/lib/python3.7/dist-packages (from -r Cap4-Matplotlib/requirements.txt (line 2)) (3.14.4)\n",
            "Collecting uproot==4.0.11\n",
            "  Downloading uproot-4.0.11-py2.py3-none-any.whl (245 kB)\n",
            "\u001b[K     |████████████████████████████████| 245 kB 7.3 MB/s \n",
            "\u001b[?25hCollecting awkward==1.4.0\n",
            "  Downloading awkward-1.4.0-cp37-cp37m-manylinux2010_x86_64.whl (13.6 MB)\n",
            "\u001b[K     |████████████████████████████████| 13.6 MB 53.9 MB/s \n",
            "\u001b[?25hRequirement already satisfied: numpy in /usr/local/lib/python3.7/dist-packages (from -r Cap4-Matplotlib/requirements.txt (line 5)) (1.19.5)\n",
            "Requirement already satisfied: matplotlib in /usr/local/lib/python3.7/dist-packages (from -r Cap4-Matplotlib/requirements.txt (line 6)) (3.2.2)\n",
            "Collecting mplhep\n",
            "  Downloading mplhep-0.3.20-py3-none-any.whl (34 kB)\n",
            "Collecting uncertainties\n",
            "  Downloading uncertainties-3.1.6-py2.py3-none-any.whl (98 kB)\n",
            "\u001b[K     |████████████████████████████████| 98 kB 7.7 MB/s \n",
            "\u001b[?25hRequirement already satisfied: pip in /usr/local/lib/python3.7/dist-packages (from -r Cap4-Matplotlib/requirements.txt (line 9)) (21.1.3)\n",
            "Requirement already satisfied: setuptools in /usr/local/lib/python3.7/dist-packages (from uproot==4.0.11->-r Cap4-Matplotlib/requirements.txt (line 3)) (57.4.0)\n",
            "Requirement already satisfied: pytz>=2017.3 in /usr/local/lib/python3.7/dist-packages (from pandas->-r Cap4-Matplotlib/requirements.txt (line 1)) (2018.9)\n",
            "Requirement already satisfied: python-dateutil>=2.7.3 in /usr/local/lib/python3.7/dist-packages (from pandas->-r Cap4-Matplotlib/requirements.txt (line 1)) (2.8.2)\n",
            "Requirement already satisfied: six>=1.5 in /usr/local/lib/python3.7/dist-packages (from python-dateutil>=2.7.3->pandas->-r Cap4-Matplotlib/requirements.txt (line 1)) (1.15.0)\n",
            "Requirement already satisfied: uproot3-methods in /usr/local/lib/python3.7/dist-packages (from uproot3->-r Cap4-Matplotlib/requirements.txt (line 2)) (0.10.1)\n",
            "Requirement already satisfied: awkward0 in /usr/local/lib/python3.7/dist-packages (from uproot3->-r Cap4-Matplotlib/requirements.txt (line 2)) (0.15.5)\n",
            "Requirement already satisfied: cachetools in /usr/local/lib/python3.7/dist-packages (from uproot3->-r Cap4-Matplotlib/requirements.txt (line 2)) (4.2.4)\n",
            "Requirement already satisfied: kiwisolver>=1.0.1 in /usr/local/lib/python3.7/dist-packages (from matplotlib->-r Cap4-Matplotlib/requirements.txt (line 6)) (1.3.2)\n",
            "Requirement already satisfied: cycler>=0.10 in /usr/local/lib/python3.7/dist-packages (from matplotlib->-r Cap4-Matplotlib/requirements.txt (line 6)) (0.11.0)\n",
            "Requirement already satisfied: pyparsing!=2.0.4,!=2.1.2,!=2.1.6,>=2.0.1 in /usr/local/lib/python3.7/dist-packages (from matplotlib->-r Cap4-Matplotlib/requirements.txt (line 6)) (3.0.7)\n",
            "Collecting uhi>=0.2.0\n",
            "  Downloading uhi-0.3.1-py3-none-any.whl (9.8 kB)\n",
            "Collecting matplotlib\n",
            "  Downloading matplotlib-3.5.1-cp37-cp37m-manylinux_2_5_x86_64.manylinux1_x86_64.whl (11.2 MB)\n",
            "\u001b[K     |████████████████████████████████| 11.2 MB 34.6 MB/s \n",
            "\u001b[?25hRequirement already satisfied: packaging in /usr/local/lib/python3.7/dist-packages (from mplhep->-r Cap4-Matplotlib/requirements.txt (line 7)) (21.3)\n",
            "Collecting mplhep-data\n",
            "  Downloading mplhep_data-0.0.3-py3-none-any.whl (5.8 MB)\n",
            "\u001b[K     |████████████████████████████████| 5.8 MB 44.5 MB/s \n",
            "\u001b[?25hRequirement already satisfied: pillow>=6.2.0 in /usr/local/lib/python3.7/dist-packages (from matplotlib->-r Cap4-Matplotlib/requirements.txt (line 6)) (7.1.2)\n",
            "Collecting fonttools>=4.22.0\n",
            "  Downloading fonttools-4.29.1-py3-none-any.whl (895 kB)\n",
            "\u001b[K     |████████████████████████████████| 895 kB 42.1 MB/s \n",
            "\u001b[?25hRequirement already satisfied: typing-extensions>=3.7 in /usr/local/lib/python3.7/dist-packages (from uhi>=0.2.0->mplhep->-r Cap4-Matplotlib/requirements.txt (line 7)) (3.10.0.2)\n",
            "Requirement already satisfied: future in /usr/local/lib/python3.7/dist-packages (from uncertainties->-r Cap4-Matplotlib/requirements.txt (line 8)) (0.16.0)\n",
            "Installing collected packages: fonttools, uhi, mplhep-data, matplotlib, uproot, uncertainties, mplhep, awkward\n",
            "  Attempting uninstall: matplotlib\n",
            "    Found existing installation: matplotlib 3.2.2\n",
            "    Uninstalling matplotlib-3.2.2:\n",
            "      Successfully uninstalled matplotlib-3.2.2\n",
            "\u001b[31mERROR: pip's dependency resolver does not currently take into account all the packages that are installed. This behaviour is the source of the following dependency conflicts.\n",
            "albumentations 0.1.12 requires imgaug<0.2.7,>=0.2.5, but you have imgaug 0.2.9 which is incompatible.\u001b[0m\n",
            "Successfully installed awkward-1.4.0 fonttools-4.29.1 matplotlib-3.5.1 mplhep-0.3.20 mplhep-data-0.0.3 uhi-0.3.1 uncertainties-3.1.6 uproot-4.0.11\n"
          ]
        },
        {
          "output_type": "display_data",
          "data": {
            "application/vnd.colab-display-data+json": {
              "pip_warning": {
                "packages": [
                  "matplotlib",
                  "mpl_toolkits"
                ]
              }
            }
          },
          "metadata": {}
        }
      ]
    },
    {
      "cell_type": "code",
      "execution_count": 32,
      "id": "necessary-vietnamese",
      "metadata": {
        "id": "necessary-vietnamese"
      },
      "outputs": [],
      "source": [
        "import uproot3 as uproot\n",
        "import pandas as pd\n",
        "import numpy as np"
      ]
    },
    {
      "cell_type": "code",
      "execution_count": 33,
      "id": "photographic-characterization",
      "metadata": {
        "id": "photographic-characterization"
      },
      "outputs": [],
      "source": [
        "samples_dic= {'data': [['data', 'data_A'], \n",
        "                       ['data', 'data_B'], \n",
        "                       ['data', 'data_C'], \n",
        "                       ['data', 'data_D']],\n",
        "              'higgs': [['mc', 'mc_345060.ggH125_ZZ4lep'], \n",
        "                        ['mc', 'mc_344235.VBFH125_ZZ4lep']], \n",
        "              'zz': [['mc', 'mc_363490.llll']], \n",
        "              'other': [['mc', 'mc_361106.Zee'], \n",
        "                        ['mc', 'mc_361107.Zmumu']]}"
      ]
    },
    {
      "cell_type": "code",
      "execution_count": 34,
      "id": "gorgeous-thinking",
      "metadata": {
        "id": "gorgeous-thinking"
      },
      "outputs": [],
      "source": [
        "processes = samples_dic.keys()\n",
        "Tuples={}\n",
        "samples=[]\n",
        "for p in processes:\n",
        "    for d in samples_dic[p]:\n",
        "        # Load the dataframes\n",
        "        folder = d[0] # Folder name\n",
        "        sample = d[1] # Sample name\n",
        "        samples.append(sample)\n",
        "        #df[sample] = ROOT.RDataFrame(\"mini\", \"{}/4lep/{}/{}.4lep.root\".format(path, folder, sample))\n",
        "        #DataUproot = uproot.open(f'./new_root_noFilter_GEM_{sample}.root')\n",
        "        DataUproot = uproot.open(f'./Cap4-Matplotlib/samples_FilterGem_{sample}.root')\n",
        "        Tuples[sample] = DataUproot['myTree']"
      ]
    },
    {
      "cell_type": "markdown",
      "id": "baking-triumph",
      "metadata": {
        "id": "baking-triumph"
      },
      "source": [
        "Primero leemos todas las branches que comiencen con `lep`"
      ]
    },
    {
      "cell_type": "code",
      "execution_count": 35,
      "id": "composed-criminal",
      "metadata": {
        "id": "composed-criminal",
        "outputId": "0164b893-cd97-4971-f51b-d7ab8ae9eeaf",
        "colab": {
          "base_uri": "https://localhost:8080/"
        }
      },
      "outputs": [
        {
          "output_type": "execute_result",
          "data": {
            "text/plain": [
              "[b'trigM',\n",
              " b'm4l',\n",
              " b'lep_pt',\n",
              " b'sum_good_lep',\n",
              " b'lep_charge',\n",
              " b'lep_type',\n",
              " b'trigE',\n",
              " b'sum_lep_charge',\n",
              " b'channelNumber',\n",
              " b'goodlep_sumtypes',\n",
              " b'eventNumber',\n",
              " b'XSection',\n",
              " b'good_lep',\n",
              " b'lep_n',\n",
              " b'lep_z0',\n",
              " b'weight',\n",
              " b'lep_phi',\n",
              " b'runNumber',\n",
              " b'lep_eta',\n",
              " b'lep_E']"
            ]
          },
          "metadata": {},
          "execution_count": 35
        }
      ],
      "source": [
        "list(Tuples['data_A'].allkeys())"
      ]
    },
    {
      "cell_type": "code",
      "execution_count": 36,
      "id": "nervous-encounter",
      "metadata": {
        "id": "nervous-encounter",
        "outputId": "4a25e076-1241-476c-fd36-376abf04e042",
        "colab": {
          "base_uri": "https://localhost:8080/"
        }
      },
      "outputs": [
        {
          "output_type": "execute_result",
          "data": {
            "text/plain": [
              "{'data_A': <TTree b'myTree' at 0x7fae06a20c50>,\n",
              " 'data_B': <TTree b'myTree' at 0x7fae06a4bf90>,\n",
              " 'data_C': <TTree b'myTree' at 0x7fae069a89d0>,\n",
              " 'data_D': <TTree b'myTree' at 0x7fae0698cd50>,\n",
              " 'mc_344235.VBFH125_ZZ4lep': <TTree b'myTree' at 0x7fae068d34d0>,\n",
              " 'mc_345060.ggH125_ZZ4lep': <TTree b'myTree' at 0x7fae069198d0>,\n",
              " 'mc_361106.Zee': <TTree b'myTree' at 0x7fae068d3dd0>,\n",
              " 'mc_361107.Zmumu': <TTree b'myTree' at 0x7fae0683d610>,\n",
              " 'mc_363490.llll': <TTree b'myTree' at 0x7fae0689c710>}"
            ]
          },
          "metadata": {},
          "execution_count": 36
        }
      ],
      "source": [
        "Tuples"
      ]
    },
    {
      "cell_type": "code",
      "execution_count": 37,
      "id": "conditional-niger",
      "metadata": {
        "id": "conditional-niger"
      },
      "outputs": [],
      "source": [
        "branches={}\n",
        "for s in samples:\n",
        "    branches[s] = Tuples[s].arrays(namedecode='utf-8')"
      ]
    },
    {
      "cell_type": "code",
      "execution_count": 38,
      "id": "answering-circle",
      "metadata": {
        "id": "answering-circle"
      },
      "outputs": [],
      "source": [
        "import matplotlib.pyplot as plt"
      ]
    },
    {
      "cell_type": "code",
      "execution_count": 39,
      "id": "lucky-poster",
      "metadata": {
        "id": "lucky-poster",
        "outputId": "6ec1f2da-9940-4f0a-a010-0e47cdda93ee",
        "colab": {
          "base_uri": "https://localhost:8080/",
          "height": 357
        }
      },
      "outputs": [
        {
          "output_type": "execute_result",
          "data": {
            "text/plain": [
              "(array([ 3., 13.,  3.,  5.,  4.,  2.,  0.,  0.,  1.,  1.]),\n",
              " array([ 19.312525,  82.30848 , 145.30444 , 208.3004  , 271.29636 ,\n",
              "        334.2923  , 397.28827 , 460.2842  , 523.28015 , 586.2761  ,\n",
              "        649.2721  ], dtype=float32),\n",
              " <a list of 10 Patch objects>)"
            ]
          },
          "metadata": {},
          "execution_count": 39
        },
        {
          "output_type": "display_data",
          "data": {
            "image/png": "[encoded data removed]",
            "text/plain": [
              "<Figure size 432x288 with 1 Axes>"
            ]
          },
          "metadata": {
            "needs_background": "light"
          }
        }
      ],
      "source": [
        "plt.hist(branches['data_A']['m4l'])"
      ]
    },
    {
      "cell_type": "markdown",
      "id": "central-belgium",
      "metadata": {
        "id": "central-belgium"
      },
      "source": [
        "# Selection"
      ]
    },
    {
      "cell_type": "markdown",
      "id": "complicated-frame",
      "metadata": {
        "id": "complicated-frame"
      },
      "source": [
        "- sum good leptons\n",
        "- sum charge\n",
        "- sum types"
      ]
    },
    {
      "cell_type": "markdown",
      "id": "conscious-fundamental",
      "metadata": {
        "id": "conscious-fundamental"
      },
      "source": [
        "### Example of a simple selection"
      ]
    },
    {
      "cell_type": "code",
      "execution_count": 40,
      "id": "physical-ideal",
      "metadata": {
        "tags": [],
        "id": "physical-ideal"
      },
      "outputs": [],
      "source": [
        "sum_leptons_test = branches['data_A']['sum_good_lep'] == 4"
      ]
    },
    {
      "cell_type": "code",
      "execution_count": 41,
      "id": "mysterious-trauma",
      "metadata": {
        "id": "mysterious-trauma",
        "outputId": "87f4f1a9-ded8-44fc-e442-ed63234a5694",
        "colab": {
          "base_uri": "https://localhost:8080/"
        }
      },
      "outputs": [
        {
          "output_type": "execute_result",
          "data": {
            "text/plain": [
              "<JaggedArray [[1 1 1 1] [1 1 1 1] [1 1 1 0] ... [1 1 0 0] [1 1 1 1] [1 0 1 1]] at 0x7fae067e3490>"
            ]
          },
          "metadata": {},
          "execution_count": 41
        }
      ],
      "source": [
        " branches['data_A']['good_lep']"
      ]
    },
    {
      "cell_type": "code",
      "execution_count": 42,
      "id": "thrown-cartridge",
      "metadata": {
        "id": "thrown-cartridge",
        "outputId": "5890e3d5-b63b-40b5-9f92-f918c58797bf",
        "colab": {
          "base_uri": "https://localhost:8080/"
        }
      },
      "outputs": [
        {
          "output_type": "execute_result",
          "data": {
            "text/plain": [
              "array([ True,  True, False,  True,  True,  True, False,  True,  True,\n",
              "        True, False,  True, False,  True,  True,  True,  True,  True,\n",
              "        True, False,  True,  True,  True,  True,  True,  True,  True,\n",
              "        True, False, False,  True, False])"
            ]
          },
          "metadata": {},
          "execution_count": 42
        }
      ],
      "source": [
        "sum_leptons_test"
      ]
    },
    {
      "cell_type": "markdown",
      "id": "sticky-northwest",
      "metadata": {
        "id": "sticky-northwest"
      },
      "source": [
        "## All the selection for this analysis"
      ]
    },
    {
      "cell_type": "code",
      "execution_count": 43,
      "id": "central-rocket",
      "metadata": {
        "id": "central-rocket"
      },
      "outputs": [],
      "source": [
        "selection_events={}\n",
        "for s in samples:\n",
        "    # trigger\n",
        "    trigger = ((branches[s]['trigM'] == True) | (branches[s]['trigE'] == True))\n",
        "    sum_leptons = branches[s]['sum_good_lep'] == 4\n",
        "    sum_charge = branches[s]['sum_lep_charge'] == 0\n",
        "    sum_types_ee = branches[s]['goodlep_sumtypes'] == 44\n",
        "    sum_types_mm = branches[s]['goodlep_sumtypes'] == 52\n",
        "    sum_types_em = branches[s]['goodlep_sumtypes'] == 48\n",
        "    sum_types_goodlep = (sum_types_ee | sum_types_mm | sum_types_em)\n",
        "    sum_lep_selection = (sum_leptons & sum_charge & sum_types_goodlep)\n",
        "    # Select leptons with high transverse momentum\n",
        "    pt_0_selection = ((branches[s]['lep_pt'][:,0] > 25000) & (branches[s]['good_lep'][:,0] == 1))\n",
        "    pt_1_selection = ((branches[s]['lep_pt'][:,1] > 15000) & (branches[s]['good_lep'][:,1] == 1))\n",
        "    pt_2_selection = ((branches[s]['lep_pt'][:,2] > 10000) & (branches[s]['good_lep'][:,2] == 1))\n",
        "    high_pt_selection = (pt_0_selection & pt_1_selection & pt_2_selection)\n",
        "    final_selection = trigger & sum_types_goodlep & sum_lep_selection & high_pt_selection\n",
        "    selection_events[s] = final_selection"
      ]
    },
    {
      "cell_type": "code",
      "execution_count": 44,
      "id": "unique-python",
      "metadata": {
        "id": "unique-python",
        "outputId": "7d894f67-f0fc-49c3-8f5e-543a99ff7d4f",
        "colab": {
          "base_uri": "https://localhost:8080/"
        }
      },
      "outputs": [
        {
          "output_type": "stream",
          "name": "stdout",
          "text": [
            "data_A       Initial events:  32\n",
            "data_B       Initial events:  108\n",
            "data_C       Initial events:  174\n",
            "data_D       Initial events:  277\n",
            "mc_345060.ggH125_ZZ4lep       Initial events:  163316\n",
            "mc_344235.VBFH125_ZZ4lep       Initial events:  189542\n",
            "mc_363490.llll       Initial events:  547603\n",
            "mc_361106.Zee       Initial events:  244\n",
            "mc_361107.Zmumu       Initial events:  148\n"
          ]
        }
      ],
      "source": [
        "for s in samples:\n",
        "    print(s,'      Initial events: ', len(branches[s]['m4l']))"
      ]
    },
    {
      "cell_type": "code",
      "execution_count": 45,
      "id": "global-blake",
      "metadata": {
        "id": "global-blake",
        "outputId": "86ed1a4d-ccdb-41a1-83a4-8671afd1527e",
        "colab": {
          "base_uri": "https://localhost:8080/"
        }
      },
      "outputs": [
        {
          "output_type": "stream",
          "name": "stdout",
          "text": [
            "data_A       After selection:  18\n",
            "data_B       After selection:  52\n",
            "data_C       After selection:  93\n",
            "data_D       After selection:  158\n",
            "mc_345060.ggH125_ZZ4lep       After selection:  141559\n",
            "mc_344235.VBFH125_ZZ4lep       After selection:  161087\n",
            "mc_363490.llll       After selection:  454699\n",
            "mc_361106.Zee       After selection:  27\n",
            "mc_361107.Zmumu       After selection:  16\n"
          ]
        }
      ],
      "source": [
        "for s in samples:\n",
        "    print(s,'      After selection: ', len(branches[s]['m4l'][selection_events[s]]))"
      ]
    },
    {
      "cell_type": "code",
      "execution_count": 46,
      "id": "indonesian-episode",
      "metadata": {
        "id": "indonesian-episode"
      },
      "outputs": [],
      "source": [
        "mc_samples=samples[4:]"
      ]
    },
    {
      "cell_type": "code",
      "execution_count": 47,
      "id": "rapid-purple",
      "metadata": {
        "id": "rapid-purple"
      },
      "outputs": [],
      "source": [
        "data_samples=samples[:4]"
      ]
    },
    {
      "cell_type": "code",
      "execution_count": 48,
      "id": "advised-saskatchewan",
      "metadata": {
        "id": "advised-saskatchewan",
        "outputId": "06035af4-29cf-4c53-c43c-f0f145c067e4",
        "colab": {
          "base_uri": "https://localhost:8080/"
        }
      },
      "outputs": [
        {
          "output_type": "stream",
          "name": "stdout",
          "text": [
            "141559\n",
            "161087\n",
            "454699\n",
            "27\n",
            "16\n"
          ]
        }
      ],
      "source": [
        "stack_mc_list=[]\n",
        "for s in mc_samples:\n",
        "    mc_selection_values=branches[s]['m4l'][selection_events[s]]\n",
        "    stack_mc_list.append(mc_selection_values)\n",
        "    print(len(mc_selection_values))"
      ]
    },
    {
      "cell_type": "code",
      "execution_count": 49,
      "id": "religious-leonard",
      "metadata": {
        "id": "religious-leonard",
        "outputId": "ff275608-b5ad-456a-a26b-bac2d4751f5e",
        "colab": {
          "base_uri": "https://localhost:8080/"
        }
      },
      "outputs": [
        {
          "output_type": "stream",
          "name": "stdout",
          "text": [
            "141559\n",
            "161087\n",
            "454699\n",
            "27\n",
            "16\n"
          ]
        }
      ],
      "source": [
        "stack_weights_list=[]\n",
        "for s in mc_samples:\n",
        "    mc_selection_weight=branches[s]['weight'][selection_events[s]]\n",
        "    stack_weights_list.append(mc_selection_weight)\n",
        "    print(len(mc_selection_weight))"
      ]
    },
    {
      "cell_type": "code",
      "execution_count": 50,
      "id": "extensive-windows",
      "metadata": {
        "id": "extensive-windows",
        "outputId": "0719c8e1-966a-4ca1-d512-8c55179f374e",
        "colab": {
          "base_uri": "https://localhost:8080/"
        }
      },
      "outputs": [
        {
          "output_type": "stream",
          "name": "stdout",
          "text": [
            "data_A 18\n",
            "data_B 52\n",
            "data_C 93\n",
            "data_D 158\n"
          ]
        }
      ],
      "source": [
        "stack_data_list=[]\n",
        "for d in data_samples:\n",
        "    data_list=list(branches[d]['m4l'][selection_events[d]])\n",
        "    stack_data_list+=data_list\n",
        "    print(d,len(data_list))"
      ]
    },
    {
      "cell_type": "code",
      "execution_count": 51,
      "id": "medieval-venue",
      "metadata": {
        "id": "medieval-venue"
      },
      "outputs": [],
      "source": [
        "def plotData(data_var, range_ab, bins_samples):\n",
        "    data_hist,bins = np.histogram(data_var, range=range_ab, bins=bins_samples) \n",
        "    #data_hist, bins = plt.hist(data_var, range=range_ab, stacked=True, bins=bins_samples)\n",
        "    print(data_hist, bins)\n",
        "    data_hist_errors = np.sqrt( data_hist )\n",
        "    bin_center=(bins[1:]+bins[:-1])/2\n",
        "    h0=plt.errorbar(x=bin_center, y=data_hist, yerr=data_hist_errors,fmt='ko', label='Data')"
      ]
    },
    {
      "cell_type": "code",
      "execution_count": 52,
      "id": "experienced-quality",
      "metadata": {
        "id": "experienced-quality"
      },
      "outputs": [],
      "source": [
        "var_name = 'm4l'\n",
        "units = ' [GeV]'\n",
        "rangos = [[80,170]]\n",
        "bines = 24 #int((rangos[0][-1]-rangos[0][0])/5)"
      ]
    },
    {
      "cell_type": "code",
      "execution_count": 53,
      "id": "bound-transfer",
      "metadata": {
        "id": "bound-transfer",
        "outputId": "dfc62a56-7699-4cfb-c355-729e1c983a7f",
        "colab": {
          "base_uri": "https://localhost:8080/",
          "height": 634
        }
      },
      "outputs": [
        {
          "output_type": "stream",
          "name": "stdout",
          "text": [
            "[ 1  6 20  7  4  3  1  0  2  1  7  9  7  3  3  1  4  1  2  4  2  1  4  2] [ 80.    83.75  87.5   91.25  95.    98.75 102.5  106.25 110.   113.75\n",
            " 117.5  121.25 125.   128.75 132.5  136.25 140.   143.75 147.5  151.25\n",
            " 155.   158.75 162.5  166.25 170.  ]\n"
          ]
        },
        {
          "output_type": "stream",
          "name": "stderr",
          "text": [
            "/usr/local/lib/python3.7/dist-packages/numpy/core/_asarray.py:83: VisibleDeprecationWarning: Creating an ndarray from ragged nested sequences (which is a list-or-tuple of lists-or-tuples-or ndarrays with different lengths or shapes) is deprecated. If you meant to do this, you must specify 'dtype=object' when creating the ndarray\n",
            "  return array(a, dtype, copy=False, order=order)\n"
          ]
        },
        {
          "output_type": "display_data",
          "data": {
            "image/png": "[encoded data removed]",
            "text/plain": [
              "<Figure size 720x576 with 1 Axes>"
            ]
          },
          "metadata": {
            "needs_background": "light"
          }
        }
      ],
      "source": [
        "plt.figure(figsize=(10,8))\n",
        "plt.title(var_name)\n",
        "plotData(stack_data_list, rangos[0], bines)\n",
        "h1=plt.hist(stack_mc_list, range=rangos[0], label=mc_samples, stacked=True, weights=stack_weights_list, bins=bines)\n",
        "plt.ylabel('Events', fontsize=18)\n",
        "plt.xlabel(var_name+units, fontsize=18)\n",
        "#plt.yscale('log')\n",
        "plt.tick_params(which='both', # ticks on both x and y axes\n",
        "                direction='in', # Put ticks inside and outside the axes\n",
        "                top=True, # draw ticks on the top axis\n",
        "                right=True, length=6, width=1)\n",
        "plt.yticks(fontsize=16)\n",
        "plt.xticks(fontsize=16)\n",
        "plt.ylim(0,30)\n",
        "plt.legend(fontsize=18,frameon=False)\n",
        "plt.show()\n",
        "plt.close()"
      ]
    }
  ],
  "metadata": {
    "kernelspec": {
      "display_name": "Python [conda env:worknew] *",
      "language": "python",
      "name": "conda-env-worknew-py"
    },
    "language_info": {
      "codemirror_mode": {
        "name": "ipython",
        "version": 3
      },
      "file_extension": ".py",
      "mimetype": "text/x-python",
      "name": "python",
      "nbconvert_exporter": "python",
      "pygments_lexer": "ipython3",
      "version": "3.8.4"
    },
    "colab": {
      "name": "With_uproot3.ipynb",
      "provenance": [],
      "include_colab_link": true
    }
  },
  "nbformat": 4,
  "nbformat_minor": 5
}